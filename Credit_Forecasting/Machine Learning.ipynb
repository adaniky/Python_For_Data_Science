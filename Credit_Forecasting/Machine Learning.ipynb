{
 "cells": [
  {
   "cell_type": "code",
   "execution_count": 1,
   "metadata": {
    "collapsed": true
   },
   "outputs": [],
   "source": [
    "#Загружаю необходимые библиотеки\n",
    "import pandas as pd\n",
    "import numpy as np\n",
    "from sklearn import preprocessing\n",
    "import matplotlib.pyplot as plt \n",
    "plt.rc(\"font\", size=14)\n",
    "from sklearn.linear_model import LogisticRegression\n",
    "from sklearn.model_selection import train_test_split\n",
    "from sklearn.feature_selection import RFE\n",
    "from sklearn.linear_model import LogisticRegression\n",
    "from imblearn.over_sampling import SMOTE\n",
    "import seaborn as sns\n",
    "sns.set(style=\"white\")\n",
    "sns.set(style=\"whitegrid\", color_codes=True)\n",
    "from collections import Counter\n",
    "from datetime import datetime, timedelta\n",
    "import statsmodels.api as sm\n",
    "from sklearn import metrics"
   ]
  },
  {
   "cell_type": "markdown",
   "metadata": {},
   "source": [
    "# 1. Exploratory Data Analysis"
   ]
  },
  {
   "cell_type": "code",
   "execution_count": 2,
   "metadata": {
    "collapsed": true
   },
   "outputs": [],
   "source": [
    "apdata = pd.read_csv('appl_data.csv') # загружаем персональные данные клиентов сначала"
   ]
  },
  {
   "cell_type": "code",
   "execution_count": 3,
   "metadata": {},
   "outputs": [
    {
     "data": {
      "text/plain": [
       "(8084, 23)"
      ]
     },
     "execution_count": 3,
     "metadata": {},
     "output_type": "execute_result"
    }
   ],
   "source": [
    "apdata.shape #количество строчек и столбцов в массиве данных"
   ]
  },
  {
   "cell_type": "code",
   "execution_count": 4,
   "metadata": {},
   "outputs": [
    {
     "data": {
      "text/html": [
       "<div>\n",
       "<style>\n",
       "    .dataframe thead tr:only-child th {\n",
       "        text-align: right;\n",
       "    }\n",
       "\n",
       "    .dataframe thead th {\n",
       "        text-align: left;\n",
       "    }\n",
       "\n",
       "    .dataframe tbody tr th {\n",
       "        vertical-align: top;\n",
       "    }\n",
       "</style>\n",
       "<table border=\"1\" class=\"dataframe\">\n",
       "  <thead>\n",
       "    <tr style=\"text-align: right;\">\n",
       "      <th></th>\n",
       "      <th>appl_id</th>\n",
       "      <th>app_crtime</th>\n",
       "      <th>client_id</th>\n",
       "      <th>birth</th>\n",
       "      <th>gender</th>\n",
       "      <th>pass_bdate</th>\n",
       "      <th>fam_status</th>\n",
       "      <th>quantity_child</th>\n",
       "      <th>max_age_child</th>\n",
       "      <th>property</th>\n",
       "      <th>...</th>\n",
       "      <th>region_reg</th>\n",
       "      <th>jobsworksince</th>\n",
       "      <th>work_experience</th>\n",
       "      <th>empl_state</th>\n",
       "      <th>empl_type</th>\n",
       "      <th>empl_worker_count</th>\n",
       "      <th>education_area</th>\n",
       "      <th>education</th>\n",
       "      <th>monthlyincome</th>\n",
       "      <th>monthlycost</th>\n",
       "    </tr>\n",
       "  </thead>\n",
       "  <tbody>\n",
       "    <tr>\n",
       "      <th>0</th>\n",
       "      <td>1157589</td>\n",
       "      <td>2017-12-31T09:35:53Z</td>\n",
       "      <td>119804</td>\n",
       "      <td>1994-01-12</td>\n",
       "      <td>1</td>\n",
       "      <td>2010-10-08</td>\n",
       "      <td>4</td>\n",
       "      <td>1</td>\n",
       "      <td>3.0</td>\n",
       "      <td>5</td>\n",
       "      <td>...</td>\n",
       "      <td>10</td>\n",
       "      <td>NaN</td>\n",
       "      <td>3</td>\n",
       "      <td>4</td>\n",
       "      <td>NaN</td>\n",
       "      <td>NaN</td>\n",
       "      <td>7.0</td>\n",
       "      <td>2</td>\n",
       "      <td>15000.0</td>\n",
       "      <td>10000.0</td>\n",
       "    </tr>\n",
       "    <tr>\n",
       "      <th>1</th>\n",
       "      <td>1159012</td>\n",
       "      <td>2017-12-31T20:05:37Z</td>\n",
       "      <td>120147</td>\n",
       "      <td>1994-02-14</td>\n",
       "      <td>2</td>\n",
       "      <td>2010-04-06</td>\n",
       "      <td>4</td>\n",
       "      <td>0</td>\n",
       "      <td>0.0</td>\n",
       "      <td>5</td>\n",
       "      <td>...</td>\n",
       "      <td>11</td>\n",
       "      <td>2013-05-01</td>\n",
       "      <td>4</td>\n",
       "      <td>1</td>\n",
       "      <td>6.0</td>\n",
       "      <td>1.0</td>\n",
       "      <td>NaN</td>\n",
       "      <td>6</td>\n",
       "      <td>8000.0</td>\n",
       "      <td>6000.0</td>\n",
       "    </tr>\n",
       "    <tr>\n",
       "      <th>2</th>\n",
       "      <td>1157375</td>\n",
       "      <td>2017-12-31T08:18:56Z</td>\n",
       "      <td>119755</td>\n",
       "      <td>1984-10-20</td>\n",
       "      <td>2</td>\n",
       "      <td>2013-06-28</td>\n",
       "      <td>3</td>\n",
       "      <td>1</td>\n",
       "      <td>2.0</td>\n",
       "      <td>5</td>\n",
       "      <td>...</td>\n",
       "      <td>7</td>\n",
       "      <td>2015-12-01</td>\n",
       "      <td>10</td>\n",
       "      <td>1</td>\n",
       "      <td>10.0</td>\n",
       "      <td>6.0</td>\n",
       "      <td>6.0</td>\n",
       "      <td>7</td>\n",
       "      <td>15000.0</td>\n",
       "      <td>14000.0</td>\n",
       "    </tr>\n",
       "    <tr>\n",
       "      <th>3</th>\n",
       "      <td>1158541</td>\n",
       "      <td>2017-12-31T15:18:23Z</td>\n",
       "      <td>120042</td>\n",
       "      <td>1986-02-07</td>\n",
       "      <td>2</td>\n",
       "      <td>2012-09-27</td>\n",
       "      <td>4</td>\n",
       "      <td>0</td>\n",
       "      <td>0.0</td>\n",
       "      <td>5</td>\n",
       "      <td>...</td>\n",
       "      <td>10</td>\n",
       "      <td>2017-09-01</td>\n",
       "      <td>13</td>\n",
       "      <td>1</td>\n",
       "      <td>1.0</td>\n",
       "      <td>5.0</td>\n",
       "      <td>6.0</td>\n",
       "      <td>2</td>\n",
       "      <td>10000.0</td>\n",
       "      <td>5000.0</td>\n",
       "    </tr>\n",
       "    <tr>\n",
       "      <th>4</th>\n",
       "      <td>1157949</td>\n",
       "      <td>2017-12-31T11:25:38Z</td>\n",
       "      <td>119893</td>\n",
       "      <td>1992-06-26</td>\n",
       "      <td>2</td>\n",
       "      <td>2012-02-11</td>\n",
       "      <td>4</td>\n",
       "      <td>0</td>\n",
       "      <td>0.0</td>\n",
       "      <td>1</td>\n",
       "      <td>...</td>\n",
       "      <td>22</td>\n",
       "      <td>2014-08-01</td>\n",
       "      <td>3</td>\n",
       "      <td>1</td>\n",
       "      <td>10.0</td>\n",
       "      <td>5.0</td>\n",
       "      <td>3.0</td>\n",
       "      <td>1</td>\n",
       "      <td>7500.0</td>\n",
       "      <td>5000.0</td>\n",
       "    </tr>\n",
       "  </tbody>\n",
       "</table>\n",
       "<p>5 rows × 23 columns</p>\n",
       "</div>"
      ],
      "text/plain": [
       "   appl_id            app_crtime  client_id       birth  gender  pass_bdate  \\\n",
       "0  1157589  2017-12-31T09:35:53Z     119804  1994-01-12       1  2010-10-08   \n",
       "1  1159012  2017-12-31T20:05:37Z     120147  1994-02-14       2  2010-04-06   \n",
       "2  1157375  2017-12-31T08:18:56Z     119755  1984-10-20       2  2013-06-28   \n",
       "3  1158541  2017-12-31T15:18:23Z     120042  1986-02-07       2  2012-09-27   \n",
       "4  1157949  2017-12-31T11:25:38Z     119893  1992-06-26       2  2012-02-11   \n",
       "\n",
       "   fam_status  quantity_child  max_age_child  property     ...       \\\n",
       "0           4               1            3.0         5     ...        \n",
       "1           4               0            0.0         5     ...        \n",
       "2           3               1            2.0         5     ...        \n",
       "3           4               0            0.0         5     ...        \n",
       "4           4               0            0.0         1     ...        \n",
       "\n",
       "  region_reg jobsworksince  work_experience  empl_state empl_type  \\\n",
       "0         10           NaN                3           4       NaN   \n",
       "1         11    2013-05-01                4           1       6.0   \n",
       "2          7    2015-12-01               10           1      10.0   \n",
       "3         10    2017-09-01               13           1       1.0   \n",
       "4         22    2014-08-01                3           1      10.0   \n",
       "\n",
       "   empl_worker_count  education_area  education  monthlyincome  monthlycost  \n",
       "0                NaN             7.0          2        15000.0      10000.0  \n",
       "1                1.0             NaN          6         8000.0       6000.0  \n",
       "2                6.0             6.0          7        15000.0      14000.0  \n",
       "3                5.0             6.0          2        10000.0       5000.0  \n",
       "4                5.0             3.0          1         7500.0       5000.0  \n",
       "\n",
       "[5 rows x 23 columns]"
      ]
     },
     "execution_count": 4,
     "metadata": {},
     "output_type": "execute_result"
    }
   ],
   "source": [
    "apdata.head()"
   ]
  },
  {
   "cell_type": "code",
   "execution_count": 5,
   "metadata": {
    "collapsed": true
   },
   "outputs": [],
   "source": [
    "apdata['app_crtime'] = pd.to_datetime(apdata['app_crtime'])\n",
    "apdata['birth'] = pd.to_datetime(apdata['birth'])\n",
    "apdata['pass_bdate'] = pd.to_datetime(apdata['pass_bdate'])\n",
    "apdata['jobsworksince'] = pd.to_datetime(apdata['jobsworksince'])\n",
    "apdata['lived_since'] = pd.to_datetime(apdata['lived_since'])\n",
    "apdata['is_same_reg_lived_since'] = pd.to_datetime(apdata['is_same_reg_lived_since'])"
   ]
  },
  {
   "cell_type": "code",
   "execution_count": 6,
   "metadata": {
    "scrolled": true
   },
   "outputs": [
    {
     "data": {
      "text/html": [
       "<div>\n",
       "<style>\n",
       "    .dataframe thead tr:only-child th {\n",
       "        text-align: right;\n",
       "    }\n",
       "\n",
       "    .dataframe thead th {\n",
       "        text-align: left;\n",
       "    }\n",
       "\n",
       "    .dataframe tbody tr th {\n",
       "        vertical-align: top;\n",
       "    }\n",
       "</style>\n",
       "<table border=\"1\" class=\"dataframe\">\n",
       "  <thead>\n",
       "    <tr style=\"text-align: right;\">\n",
       "      <th></th>\n",
       "      <th>appl_id</th>\n",
       "      <th>client_id</th>\n",
       "      <th>gender</th>\n",
       "      <th>fam_status</th>\n",
       "      <th>quantity_child</th>\n",
       "      <th>max_age_child</th>\n",
       "      <th>property</th>\n",
       "      <th>region</th>\n",
       "      <th>region_reg</th>\n",
       "      <th>work_experience</th>\n",
       "      <th>empl_state</th>\n",
       "      <th>empl_type</th>\n",
       "      <th>empl_worker_count</th>\n",
       "      <th>education_area</th>\n",
       "      <th>education</th>\n",
       "      <th>monthlyincome</th>\n",
       "      <th>monthlycost</th>\n",
       "    </tr>\n",
       "  </thead>\n",
       "  <tbody>\n",
       "    <tr>\n",
       "      <th>count</th>\n",
       "      <td>8.084000e+03</td>\n",
       "      <td>8084.000000</td>\n",
       "      <td>8084.000000</td>\n",
       "      <td>8084.000000</td>\n",
       "      <td>8084.000000</td>\n",
       "      <td>4600.000000</td>\n",
       "      <td>8084.000000</td>\n",
       "      <td>8084.000000</td>\n",
       "      <td>8084.000000</td>\n",
       "      <td>8084.000000</td>\n",
       "      <td>8084.000000</td>\n",
       "      <td>7138.000000</td>\n",
       "      <td>7138.000000</td>\n",
       "      <td>4728.000000</td>\n",
       "      <td>8084.000000</td>\n",
       "      <td>8084.000000</td>\n",
       "      <td>8084.000000</td>\n",
       "    </tr>\n",
       "    <tr>\n",
       "      <th>mean</th>\n",
       "      <td>7.561101e+05</td>\n",
       "      <td>79912.587333</td>\n",
       "      <td>1.642751</td>\n",
       "      <td>3.295893</td>\n",
       "      <td>0.573231</td>\n",
       "      <td>5.307826</td>\n",
       "      <td>3.038718</td>\n",
       "      <td>10.588817</td>\n",
       "      <td>13.208189</td>\n",
       "      <td>7.743320</td>\n",
       "      <td>2.012618</td>\n",
       "      <td>7.950406</td>\n",
       "      <td>3.908938</td>\n",
       "      <td>6.945431</td>\n",
       "      <td>3.258906</td>\n",
       "      <td>8147.017071</td>\n",
       "      <td>3956.751237</td>\n",
       "    </tr>\n",
       "    <tr>\n",
       "      <th>std</th>\n",
       "      <td>2.315366e+05</td>\n",
       "      <td>24402.753983</td>\n",
       "      <td>0.479219</td>\n",
       "      <td>0.930348</td>\n",
       "      <td>0.893960</td>\n",
       "      <td>7.664016</td>\n",
       "      <td>1.880471</td>\n",
       "      <td>6.148571</td>\n",
       "      <td>7.309514</td>\n",
       "      <td>7.363055</td>\n",
       "      <td>1.628975</td>\n",
       "      <td>3.936522</td>\n",
       "      <td>1.741563</td>\n",
       "      <td>3.072563</td>\n",
       "      <td>2.261160</td>\n",
       "      <td>6880.490610</td>\n",
       "      <td>4057.347498</td>\n",
       "    </tr>\n",
       "    <tr>\n",
       "      <th>min</th>\n",
       "      <td>3.202020e+05</td>\n",
       "      <td>431.000000</td>\n",
       "      <td>1.000000</td>\n",
       "      <td>1.000000</td>\n",
       "      <td>0.000000</td>\n",
       "      <td>0.000000</td>\n",
       "      <td>1.000000</td>\n",
       "      <td>1.000000</td>\n",
       "      <td>1.000000</td>\n",
       "      <td>0.000000</td>\n",
       "      <td>1.000000</td>\n",
       "      <td>1.000000</td>\n",
       "      <td>1.000000</td>\n",
       "      <td>1.000000</td>\n",
       "      <td>1.000000</td>\n",
       "      <td>3.000000</td>\n",
       "      <td>1.000000</td>\n",
       "    </tr>\n",
       "    <tr>\n",
       "      <th>25%</th>\n",
       "      <td>5.569778e+05</td>\n",
       "      <td>63540.750000</td>\n",
       "      <td>1.000000</td>\n",
       "      <td>3.000000</td>\n",
       "      <td>0.000000</td>\n",
       "      <td>0.000000</td>\n",
       "      <td>1.000000</td>\n",
       "      <td>6.000000</td>\n",
       "      <td>7.000000</td>\n",
       "      <td>3.000000</td>\n",
       "      <td>1.000000</td>\n",
       "      <td>5.000000</td>\n",
       "      <td>2.000000</td>\n",
       "      <td>4.000000</td>\n",
       "      <td>1.000000</td>\n",
       "      <td>5000.000000</td>\n",
       "      <td>2000.000000</td>\n",
       "    </tr>\n",
       "    <tr>\n",
       "      <th>50%</th>\n",
       "      <td>7.672290e+05</td>\n",
       "      <td>82083.000000</td>\n",
       "      <td>2.000000</td>\n",
       "      <td>4.000000</td>\n",
       "      <td>0.000000</td>\n",
       "      <td>2.000000</td>\n",
       "      <td>3.000000</td>\n",
       "      <td>9.000000</td>\n",
       "      <td>12.000000</td>\n",
       "      <td>6.000000</td>\n",
       "      <td>1.000000</td>\n",
       "      <td>8.000000</td>\n",
       "      <td>4.000000</td>\n",
       "      <td>6.000000</td>\n",
       "      <td>2.000000</td>\n",
       "      <td>7000.000000</td>\n",
       "      <td>3000.000000</td>\n",
       "    </tr>\n",
       "    <tr>\n",
       "      <th>75%</th>\n",
       "      <td>9.523328e+05</td>\n",
       "      <td>99627.250000</td>\n",
       "      <td>2.000000</td>\n",
       "      <td>4.000000</td>\n",
       "      <td>1.000000</td>\n",
       "      <td>8.000000</td>\n",
       "      <td>5.000000</td>\n",
       "      <td>15.000000</td>\n",
       "      <td>20.000000</td>\n",
       "      <td>10.000000</td>\n",
       "      <td>3.000000</td>\n",
       "      <td>12.000000</td>\n",
       "      <td>6.000000</td>\n",
       "      <td>10.000000</td>\n",
       "      <td>6.000000</td>\n",
       "      <td>9100.000000</td>\n",
       "      <td>5000.000000</td>\n",
       "    </tr>\n",
       "    <tr>\n",
       "      <th>max</th>\n",
       "      <td>1.159038e+06</td>\n",
       "      <td>120154.000000</td>\n",
       "      <td>2.000000</td>\n",
       "      <td>5.000000</td>\n",
       "      <td>20.000000</td>\n",
       "      <td>58.000000</td>\n",
       "      <td>6.000000</td>\n",
       "      <td>23.000000</td>\n",
       "      <td>27.000000</td>\n",
       "      <td>112.000000</td>\n",
       "      <td>6.000000</td>\n",
       "      <td>13.000000</td>\n",
       "      <td>6.000000</td>\n",
       "      <td>11.000000</td>\n",
       "      <td>7.000000</td>\n",
       "      <td>150000.000000</td>\n",
       "      <td>150000.000000</td>\n",
       "    </tr>\n",
       "  </tbody>\n",
       "</table>\n",
       "</div>"
      ],
      "text/plain": [
       "            appl_id      client_id       gender   fam_status  quantity_child  \\\n",
       "count  8.084000e+03    8084.000000  8084.000000  8084.000000     8084.000000   \n",
       "mean   7.561101e+05   79912.587333     1.642751     3.295893        0.573231   \n",
       "std    2.315366e+05   24402.753983     0.479219     0.930348        0.893960   \n",
       "min    3.202020e+05     431.000000     1.000000     1.000000        0.000000   \n",
       "25%    5.569778e+05   63540.750000     1.000000     3.000000        0.000000   \n",
       "50%    7.672290e+05   82083.000000     2.000000     4.000000        0.000000   \n",
       "75%    9.523328e+05   99627.250000     2.000000     4.000000        1.000000   \n",
       "max    1.159038e+06  120154.000000     2.000000     5.000000       20.000000   \n",
       "\n",
       "       max_age_child     property       region   region_reg  work_experience  \\\n",
       "count    4600.000000  8084.000000  8084.000000  8084.000000      8084.000000   \n",
       "mean        5.307826     3.038718    10.588817    13.208189         7.743320   \n",
       "std         7.664016     1.880471     6.148571     7.309514         7.363055   \n",
       "min         0.000000     1.000000     1.000000     1.000000         0.000000   \n",
       "25%         0.000000     1.000000     6.000000     7.000000         3.000000   \n",
       "50%         2.000000     3.000000     9.000000    12.000000         6.000000   \n",
       "75%         8.000000     5.000000    15.000000    20.000000        10.000000   \n",
       "max        58.000000     6.000000    23.000000    27.000000       112.000000   \n",
       "\n",
       "        empl_state    empl_type  empl_worker_count  education_area  \\\n",
       "count  8084.000000  7138.000000        7138.000000     4728.000000   \n",
       "mean      2.012618     7.950406           3.908938        6.945431   \n",
       "std       1.628975     3.936522           1.741563        3.072563   \n",
       "min       1.000000     1.000000           1.000000        1.000000   \n",
       "25%       1.000000     5.000000           2.000000        4.000000   \n",
       "50%       1.000000     8.000000           4.000000        6.000000   \n",
       "75%       3.000000    12.000000           6.000000       10.000000   \n",
       "max       6.000000    13.000000           6.000000       11.000000   \n",
       "\n",
       "         education  monthlyincome    monthlycost  \n",
       "count  8084.000000    8084.000000    8084.000000  \n",
       "mean      3.258906    8147.017071    3956.751237  \n",
       "std       2.261160    6880.490610    4057.347498  \n",
       "min       1.000000       3.000000       1.000000  \n",
       "25%       1.000000    5000.000000    2000.000000  \n",
       "50%       2.000000    7000.000000    3000.000000  \n",
       "75%       6.000000    9100.000000    5000.000000  \n",
       "max       7.000000  150000.000000  150000.000000  "
      ]
     },
     "execution_count": 6,
     "metadata": {},
     "output_type": "execute_result"
    }
   ],
   "source": [
    "apdata.describe()\n",
    "#Как можно заметить, не все клиенты указали возраст ребенка, сферу деятельности и сферу образования, а также с какого времени на предыдущем месте работы"
   ]
  },
  {
   "cell_type": "code",
   "execution_count": 7,
   "metadata": {},
   "outputs": [
    {
     "data": {
      "text/plain": [
       "112"
      ]
     },
     "execution_count": 7,
     "metadata": {},
     "output_type": "execute_result"
    }
   ],
   "source": [
    "max(apdata['work_experience'])#Хм, 50 лет опыта работы я еще понимаю, но 112 как-то перебор:) Хотя возможно речь идет о месяцах работы, что тоже довольно странно"
   ]
  },
  {
   "cell_type": "code",
   "execution_count": 8,
   "metadata": {},
   "outputs": [
    {
     "data": {
      "text/plain": [
       "array([ 1,  0,  2,  3, 15, 12,  4,  6,  5, 20,  7, 10,  8], dtype=int64)"
      ]
     },
     "execution_count": 8,
     "metadata": {},
     "output_type": "execute_result"
    }
   ],
   "source": [
    "apdata['quantity_child'].unique()"
   ]
  },
  {
   "cell_type": "code",
   "execution_count": 9,
   "metadata": {},
   "outputs": [
    {
     "data": {
      "text/plain": [
       "Counter({0: 4893,\n",
       "         1: 2074,\n",
       "         2: 912,\n",
       "         3: 162,\n",
       "         4: 22,\n",
       "         5: 10,\n",
       "         6: 3,\n",
       "         7: 1,\n",
       "         8: 1,\n",
       "         10: 2,\n",
       "         12: 2,\n",
       "         15: 1,\n",
       "         20: 1})"
      ]
     },
     "execution_count": 9,
     "metadata": {},
     "output_type": "execute_result"
    }
   ],
   "source": [
    "#Посмотрим как у нас распределение с количеством детей у клиентов, в словаре ключ - количество детей, значение - количетсво повторений\n",
    "Counter(apdata['quantity_child']) #Чето как-то даже не верится, что бывают люди, у которых больше 10 детей, ну да ладно, жесть"
   ]
  },
  {
   "cell_type": "code",
   "execution_count": 10,
   "metadata": {
    "collapsed": true
   },
   "outputs": [],
   "source": [
    "# Посчитаем возраст клиентов на момент заключения заявки\n",
    "ages = apdata['app_crtime'] - apdata['birth']\n",
    "apdata['ages'] = [ages.loc[i].total_seconds()/timedelta (days=365).total_seconds() for i in range(len(ages))]"
   ]
  },
  {
   "cell_type": "code",
   "execution_count": 11,
   "metadata": {},
   "outputs": [
    {
     "data": {
      "image/png": "[encoded data removed]",
      "text/plain": [
       "<matplotlib.figure.Figure at 0x155227b8>"
      ]
     },
     "metadata": {},
     "output_type": "display_data"
    }
   ],
   "source": [
    "apdata['ages'].hist()\n",
    "plt.title('Гистограма возраста клиентов')\n",
    "plt.xlabel('Возраст')\n",
    "plt.ylabel('Частота')\n",
    "plt.savefig('hist_age')\n",
    "plt.show()\n",
    "# Судя по гистограме наиболее частыми клиентами были люди от 20 до 30-35 лет"
   ]
  },
  {
   "cell_type": "code",
   "execution_count": 12,
   "metadata": {
    "collapsed": true
   },
   "outputs": [],
   "source": [
    "# Посчитаем время работы на последнем месте на момент заключения заявки\n",
    "jobsworkage = apdata['app_crtime'] - apdata['jobsworksince']\n",
    "apdata['jobsworkage'] = [jobsworkage.loc[i].total_seconds()/timedelta (days=365).total_seconds() for i in range(len(jobsworkage))]"
   ]
  },
  {
   "cell_type": "code",
   "execution_count": 13,
   "metadata": {
    "collapsed": true
   },
   "outputs": [],
   "source": [
    "# Посчитаем возраст получения паспорта клиентом\n",
    "jobsworkage = apdata['app_crtime'] - apdata['jobsworksince']\n",
    "apdata['jobsworkage'] = [jobsworkage.loc[i].total_seconds()/timedelta (days=365).total_seconds() for i in range(len(jobsworkage))]"
   ]
  },
  {
   "cell_type": "code",
   "execution_count": 14,
   "metadata": {
    "collapsed": true
   },
   "outputs": [],
   "source": [
    "# Посчитаем возраст получения паспорта клиентом\n",
    "passage = apdata['pass_bdate'] - apdata['birth']\n",
    "apdata['passage'] = [passage.loc[i].total_seconds()/timedelta (days=365).total_seconds() for i in range(len(passage))]"
   ]
  },
  {
   "cell_type": "code",
   "execution_count": 15,
   "metadata": {
    "collapsed": true
   },
   "outputs": [],
   "source": [
    "# Время проживания в последнем месте регистрации\n",
    "lived_age = apdata['app_crtime'] - apdata['lived_since']\n",
    "apdata['lived_age'] = [lived_age.loc[i].total_seconds()/timedelta (days=365).total_seconds() for i in range(len(lived_age))]"
   ]
  },
  {
   "cell_type": "code",
   "execution_count": 16,
   "metadata": {
    "collapsed": true
   },
   "outputs": [],
   "source": [
    "# Время прописки в последнем месте регистрации\n",
    "reg_lived = apdata['app_crtime'] - apdata['is_same_reg_lived_since']\n",
    "apdata['reg_lived'] = [reg_lived.loc[i].total_seconds()/timedelta (days=365).total_seconds() for i in range(len(reg_lived))]"
   ]
  },
  {
   "cell_type": "code",
   "execution_count": 17,
   "metadata": {
    "collapsed": true
   },
   "outputs": [],
   "source": [
    "# Данные поведения клиентов на сайте\n",
    "behdata = pd.read_csv('behav_on_site.csv')"
   ]
  },
  {
   "cell_type": "code",
   "execution_count": 18,
   "metadata": {
    "collapsed": true
   },
   "outputs": [],
   "source": [
    "# Предпочтения клентов в выборе браузера и платформы\n",
    "lentht = behdata.groupby(['client_id']).agg(lambda x:x.value_counts().index[0]) # Групируем по наиболее частому повторению\n",
    "del lentht['device_id'], lentht['create_time'], lentht['id_ref']"
   ]
  },
  {
   "cell_type": "code",
   "execution_count": 19,
   "metadata": {},
   "outputs": [
    {
     "data": {
      "text/html": [
       "<div>\n",
       "<style>\n",
       "    .dataframe thead tr:only-child th {\n",
       "        text-align: right;\n",
       "    }\n",
       "\n",
       "    .dataframe thead th {\n",
       "        text-align: left;\n",
       "    }\n",
       "\n",
       "    .dataframe tbody tr th {\n",
       "        vertical-align: top;\n",
       "    }\n",
       "</style>\n",
       "<table border=\"1\" class=\"dataframe\">\n",
       "  <thead>\n",
       "    <tr style=\"text-align: right;\">\n",
       "      <th></th>\n",
       "      <th>browser</th>\n",
       "      <th>platform</th>\n",
       "    </tr>\n",
       "    <tr>\n",
       "      <th>client_id</th>\n",
       "      <th></th>\n",
       "      <th></th>\n",
       "    </tr>\n",
       "  </thead>\n",
       "  <tbody>\n",
       "    <tr>\n",
       "      <th>431</th>\n",
       "      <td>Chrome</td>\n",
       "      <td>Android</td>\n",
       "    </tr>\n",
       "    <tr>\n",
       "      <th>538</th>\n",
       "      <td>Chrome</td>\n",
       "      <td>Android</td>\n",
       "    </tr>\n",
       "    <tr>\n",
       "      <th>640</th>\n",
       "      <td>Chrome</td>\n",
       "      <td>Windows</td>\n",
       "    </tr>\n",
       "    <tr>\n",
       "      <th>656</th>\n",
       "      <td>Chrome</td>\n",
       "      <td>Android</td>\n",
       "    </tr>\n",
       "    <tr>\n",
       "      <th>854</th>\n",
       "      <td>Chrome</td>\n",
       "      <td>Android</td>\n",
       "    </tr>\n",
       "  </tbody>\n",
       "</table>\n",
       "</div>"
      ],
      "text/plain": [
       "          browser platform\n",
       "client_id                 \n",
       "431        Chrome  Android\n",
       "538        Chrome  Android\n",
       "640        Chrome  Windows\n",
       "656        Chrome  Android\n",
       "854        Chrome  Android"
      ]
     },
     "execution_count": 19,
     "metadata": {},
     "output_type": "execute_result"
    }
   ],
   "source": [
    "lentht.head()"
   ]
  },
  {
   "cell_type": "code",
   "execution_count": 20,
   "metadata": {},
   "outputs": [
    {
     "data": {
      "text/plain": [
       "Counter({'Android': 58,\n",
       "         'Chrome': 5745,\n",
       "         'Edge': 43,\n",
       "         'Firefox': 339,\n",
       "         'Internet Explorer': 17,\n",
       "         'Opera': 802,\n",
       "         'Opera Mini': 2,\n",
       "         'Pocket Internet Explorer': 2,\n",
       "         'Safari': 18,\n",
       "         'Vivalidi': 2,\n",
       "         'Yandex': 540,\n",
       "         'iPad': 37,\n",
       "         'iPhone': 478,\n",
       "         'unknown': 1})"
      ]
     },
     "execution_count": 20,
     "metadata": {},
     "output_type": "execute_result"
    }
   ],
   "source": [
    "Counter(lentht['browser'])"
   ]
  },
  {
   "cell_type": "code",
   "execution_count": 21,
   "metadata": {
    "collapsed": true
   },
   "outputs": [],
   "source": [
    "#Уменьшим выборку номинативной переменной \" предпочитаемый браузер\"\n",
    "lentht['browser'] = np.where(lentht['browser'] =='Opera Mini', 'Mobile', lentht['browser'])\n",
    "lentht['browser'] = np.where(lentht['browser'] =='Pocket Internet Explorer', 'Mobile', lentht['browser'])\n",
    "lentht['browser'] = np.where(lentht['browser'] =='Android', 'Mobile', lentht['browser'])\n",
    "lentht['browser'] = np.where(lentht['browser'] =='Edge', 'Other', lentht['browser'])\n",
    "lentht['browser'] = np.where(lentht['browser'] =='Internet Explorer', 'Other', lentht['browser'])\n",
    "lentht['browser'] = np.where(lentht['browser'] =='Safari', 'Other', lentht['browser'])\n",
    "lentht['browser'] = np.where(lentht['browser'] =='Vivalidi', 'Other', lentht['browser'])\n",
    "lentht['browser'] = np.where(lentht['browser'] =='unknown', 'Other', lentht['browser'])\n",
    "lentht['browser'] = np.where(lentht['browser'] =='iPad', 'iPhone', lentht['browser'])"
   ]
  },
  {
   "cell_type": "code",
   "execution_count": 22,
   "metadata": {},
   "outputs": [
    {
     "data": {
      "text/plain": [
       "Counter({'Android': 3617,\n",
       "         'Apple': 35,\n",
       "         'Chrome OS': 2,\n",
       "         'Linux': 81,\n",
       "         'Linux/SMART-TV': 1,\n",
       "         'Windows': 3749,\n",
       "         'iPad': 41,\n",
       "         'iPhone': 552,\n",
       "         'unknown': 6})"
      ]
     },
     "execution_count": 22,
     "metadata": {},
     "output_type": "execute_result"
    }
   ],
   "source": [
    "Counter(lentht['platform'])"
   ]
  },
  {
   "cell_type": "code",
   "execution_count": 23,
   "metadata": {
    "collapsed": true
   },
   "outputs": [],
   "source": [
    "#Уменьшим выборку номинативной переменной \"предпочитаемая платформа\"\n",
    "lentht['platform'] = np.where(lentht['platform'] =='Chrome OS', 'Windows', lentht['platform'])\n",
    "lentht['platform'] = np.where(lentht['platform'] =='iPad', 'Apple', lentht['platform'])\n",
    "lentht['platform'] = np.where(lentht['platform'] =='iPhone', 'Apple', lentht['platform'])\n",
    "lentht['platform'] = np.where(lentht['platform'] =='Linux/SMART-TV', 'Linux', lentht['platform'])\n",
    "lentht['platform'] = np.where(lentht['platform'] =='unknown', 'Windows', lentht['platform'])"
   ]
  },
  {
   "cell_type": "code",
   "execution_count": 24,
   "metadata": {
    "collapsed": true
   },
   "outputs": [],
   "source": [
    "#Преобразуем в числовые данные\n",
    "lentht['browser'] = lentht['browser'].astype('category').cat.codes\n",
    "lentht['platform'] = lentht['platform'].astype('category').cat.codes"
   ]
  },
  {
   "cell_type": "code",
   "execution_count": 25,
   "metadata": {},
   "outputs": [
    {
     "data": {
      "text/html": [
       "<div>\n",
       "<style>\n",
       "    .dataframe thead tr:only-child th {\n",
       "        text-align: right;\n",
       "    }\n",
       "\n",
       "    .dataframe thead th {\n",
       "        text-align: left;\n",
       "    }\n",
       "\n",
       "    .dataframe tbody tr th {\n",
       "        vertical-align: top;\n",
       "    }\n",
       "</style>\n",
       "<table border=\"1\" class=\"dataframe\">\n",
       "  <thead>\n",
       "    <tr style=\"text-align: right;\">\n",
       "      <th></th>\n",
       "      <th>device_id</th>\n",
       "      <th>client_id</th>\n",
       "      <th>browser</th>\n",
       "      <th>platform</th>\n",
       "      <th>create_time</th>\n",
       "      <th>id_ref</th>\n",
       "    </tr>\n",
       "  </thead>\n",
       "  <tbody>\n",
       "    <tr>\n",
       "      <th>0</th>\n",
       "      <td>641468</td>\n",
       "      <td>113731</td>\n",
       "      <td>Chrome</td>\n",
       "      <td>Android</td>\n",
       "      <td>2017-12-22 16:21:57.095129+00</td>\n",
       "      <td>1366</td>\n",
       "    </tr>\n",
       "    <tr>\n",
       "      <th>1</th>\n",
       "      <td>755106</td>\n",
       "      <td>114439</td>\n",
       "      <td>iPhone</td>\n",
       "      <td>iPhone</td>\n",
       "      <td>2017-12-23 23:38:30.521322+00</td>\n",
       "      <td>117</td>\n",
       "    </tr>\n",
       "    <tr>\n",
       "      <th>2</th>\n",
       "      <td>673875</td>\n",
       "      <td>112253</td>\n",
       "      <td>Chrome</td>\n",
       "      <td>Windows</td>\n",
       "      <td>2017-12-23 12:49:34.97261+00</td>\n",
       "      <td>2727</td>\n",
       "    </tr>\n",
       "    <tr>\n",
       "      <th>3</th>\n",
       "      <td>755106</td>\n",
       "      <td>114439</td>\n",
       "      <td>iPhone</td>\n",
       "      <td>iPhone</td>\n",
       "      <td>2017-12-23 23:38:30.967528+00</td>\n",
       "      <td>6606</td>\n",
       "    </tr>\n",
       "    <tr>\n",
       "      <th>4</th>\n",
       "      <td>744303</td>\n",
       "      <td>115639</td>\n",
       "      <td>Chrome</td>\n",
       "      <td>Windows</td>\n",
       "      <td>2017-12-25 15:36:59.451907+00</td>\n",
       "      <td>3200</td>\n",
       "    </tr>\n",
       "  </tbody>\n",
       "</table>\n",
       "</div>"
      ],
      "text/plain": [
       "   device_id  client_id browser platform                    create_time  \\\n",
       "0     641468     113731  Chrome  Android  2017-12-22 16:21:57.095129+00   \n",
       "1     755106     114439  iPhone   iPhone  2017-12-23 23:38:30.521322+00   \n",
       "2     673875     112253  Chrome  Windows   2017-12-23 12:49:34.97261+00   \n",
       "3     755106     114439  iPhone   iPhone  2017-12-23 23:38:30.967528+00   \n",
       "4     744303     115639  Chrome  Windows  2017-12-25 15:36:59.451907+00   \n",
       "\n",
       "   id_ref  \n",
       "0    1366  \n",
       "1     117  \n",
       "2    2727  \n",
       "3    6606  \n",
       "4    3200  "
      ]
     },
     "execution_count": 25,
     "metadata": {},
     "output_type": "execute_result"
    }
   ],
   "source": [
    "behdata.head()"
   ]
  },
  {
   "cell_type": "code",
   "execution_count": 26,
   "metadata": {
    "collapsed": true
   },
   "outputs": [],
   "source": [
    "behdata['create_time'] = pd.to_datetime(behdata['create_time'])"
   ]
  },
  {
   "cell_type": "code",
   "execution_count": 27,
   "metadata": {
    "collapsed": true
   },
   "outputs": [],
   "source": [
    "mind = behdata.groupby(['client_id']).min()['create_time']"
   ]
  },
  {
   "cell_type": "code",
   "execution_count": 28,
   "metadata": {
    "collapsed": true
   },
   "outputs": [],
   "source": [
    "maxd = behdata.groupby(['client_id']).max()['create_time']"
   ]
  },
  {
   "cell_type": "code",
   "execution_count": 29,
   "metadata": {
    "collapsed": true
   },
   "outputs": [],
   "source": [
    "countsite = Counter(behdata['client_id'])\n",
    "countsite = pd.DataFrame.from_dict(countsite, orient = 'index')"
   ]
  },
  {
   "cell_type": "code",
   "execution_count": 30,
   "metadata": {
    "collapsed": true
   },
   "outputs": [],
   "source": [
    "lentht['site_visit'] = countsite"
   ]
  },
  {
   "cell_type": "code",
   "execution_count": 31,
   "metadata": {
    "collapsed": true
   },
   "outputs": [],
   "source": [
    "lentht['countt'] = (maxd - mind)\n",
    "lentht['countt'] = [lentht['countt'].iloc[i].total_seconds() for i in range(len(lentht['countt']))]"
   ]
  },
  {
   "cell_type": "code",
   "execution_count": 32,
   "metadata": {
    "collapsed": true
   },
   "outputs": [],
   "source": [
    "lentht['site_frac'] = lentht['countt']/lentht['site_visit']\n",
    "del lentht['countt']"
   ]
  },
  {
   "cell_type": "code",
   "execution_count": 33,
   "metadata": {},
   "outputs": [
    {
     "data": {
      "text/plain": [
       "8033"
      ]
     },
     "execution_count": 33,
     "metadata": {},
     "output_type": "execute_result"
    }
   ],
   "source": [
    "len(behdata['device_id'].unique()) #вероятно, что раз количество девайсов меньше, чем количество клиентов, что заходили на сайт, вероятно некоторые клиенты заходили с одного девайса и возможно связаны между собой"
   ]
  },
  {
   "cell_type": "code",
   "execution_count": 34,
   "metadata": {
    "collapsed": true
   },
   "outputs": [],
   "source": [
    "# Загрузим зависимую переменную, которую нам нужно исследовать\n",
    "target = pd.read_csv('is_default.csv')"
   ]
  },
  {
   "cell_type": "code",
   "execution_count": 35,
   "metadata": {
    "collapsed": true
   },
   "outputs": [],
   "source": [
    "target_vis = target.dropna() # создадим новый массив, в котором пока удалим клиентов с пустыми значениями. \n",
    "# Вероятно это те клиенты, договор которых пока еще не подошел к концу, потому для них пока не заполнено \"df\""
   ]
  },
  {
   "cell_type": "code",
   "execution_count": 36,
   "metadata": {},
   "outputs": [
    {
     "data": {
      "text/plain": [
       "good    3010\n",
       "bad      992\n",
       "Name: df, dtype: int64"
      ]
     },
     "execution_count": 36,
     "metadata": {},
     "output_type": "execute_result"
    }
   ],
   "source": [
    "target_vis['df'].value_counts() # как мы можем заметить почти четверть клиентов оказалась \"плохими\",\n",
    "# попробуем определить взаимосвязь между качеством клиента и факторами, которые могут потенциально влиять"
   ]
  },
  {
   "cell_type": "code",
   "execution_count": 37,
   "metadata": {},
   "outputs": [
    {
     "name": "stdout",
     "output_type": "stream",
     "text": [
      "Процент клиентов, что выполнили условия кредитования: 75.21239380309845%\n"
     ]
    }
   ],
   "source": [
    "print( \"Процент клиентов, что выполнили условия кредитования: \" + str((target_vis['df'].value_counts()['good']/(target_vis['df'].value_counts()['good'] + target_vis['df'].value_counts()['bad']))*100) + \"%\")"
   ]
  },
  {
   "cell_type": "code",
   "execution_count": 38,
   "metadata": {},
   "outputs": [
    {
     "data": {
      "image/png": "[encoded data removed]",
      "text/plain": [
       "<matplotlib.figure.Figure at 0x15588668>"
      ]
     },
     "metadata": {},
     "output_type": "display_data"
    }
   ],
   "source": [
    "sns.countplot(x = 'df', data = target_vis, palette = 'hls' )\n",
    "plt.show()"
   ]
  },
  {
   "cell_type": "code",
   "execution_count": 39,
   "metadata": {
    "collapsed": true
   },
   "outputs": [],
   "source": [
    "data = pd.merge(apdata, target, on = 'appl_id')"
   ]
  },
  {
   "cell_type": "code",
   "execution_count": 40,
   "metadata": {},
   "outputs": [
    {
     "data": {
      "text/plain": [
       "Index(['appl_id', 'app_crtime', 'client_id', 'birth', 'gender', 'pass_bdate',\n",
       "       'fam_status', 'quantity_child', 'max_age_child', 'property',\n",
       "       'lived_since', 'is_same_reg_lived_since', 'region', 'region_reg',\n",
       "       'jobsworksince', 'work_experience', 'empl_state', 'empl_type',\n",
       "       'empl_worker_count', 'education_area', 'education', 'monthlyincome',\n",
       "       'monthlycost', 'ages', 'jobsworkage', 'passage', 'lived_age',\n",
       "       'reg_lived', 'df'],\n",
       "      dtype='object')"
      ]
     },
     "execution_count": 40,
     "metadata": {},
     "output_type": "execute_result"
    }
   ],
   "source": [
    "data.columns"
   ]
  },
  {
   "cell_type": "code",
   "execution_count": 41,
   "metadata": {
    "collapsed": true
   },
   "outputs": [],
   "source": [
    "del data['app_crtime'], data['birth'], data['pass_bdate'], data['lived_since'], data['is_same_reg_lived_since'], data['jobsworksince']"
   ]
  },
  {
   "cell_type": "code",
   "execution_count": 42,
   "metadata": {},
   "outputs": [
    {
     "data": {
      "text/html": [
       "<div>\n",
       "<style>\n",
       "    .dataframe thead tr:only-child th {\n",
       "        text-align: right;\n",
       "    }\n",
       "\n",
       "    .dataframe thead th {\n",
       "        text-align: left;\n",
       "    }\n",
       "\n",
       "    .dataframe tbody tr th {\n",
       "        vertical-align: top;\n",
       "    }\n",
       "</style>\n",
       "<table border=\"1\" class=\"dataframe\">\n",
       "  <thead>\n",
       "    <tr style=\"text-align: right;\">\n",
       "      <th></th>\n",
       "      <th>appl_id</th>\n",
       "      <th>client_id</th>\n",
       "      <th>gender</th>\n",
       "      <th>fam_status</th>\n",
       "      <th>quantity_child</th>\n",
       "      <th>max_age_child</th>\n",
       "      <th>property</th>\n",
       "      <th>region</th>\n",
       "      <th>region_reg</th>\n",
       "      <th>work_experience</th>\n",
       "      <th>empl_state</th>\n",
       "      <th>empl_type</th>\n",
       "      <th>empl_worker_count</th>\n",
       "      <th>education_area</th>\n",
       "      <th>education</th>\n",
       "      <th>monthlyincome</th>\n",
       "      <th>monthlycost</th>\n",
       "      <th>ages</th>\n",
       "      <th>jobsworkage</th>\n",
       "      <th>passage</th>\n",
       "      <th>lived_age</th>\n",
       "      <th>reg_lived</th>\n",
       "    </tr>\n",
       "    <tr>\n",
       "      <th>df</th>\n",
       "      <th></th>\n",
       "      <th></th>\n",
       "      <th></th>\n",
       "      <th></th>\n",
       "      <th></th>\n",
       "      <th></th>\n",
       "      <th></th>\n",
       "      <th></th>\n",
       "      <th></th>\n",
       "      <th></th>\n",
       "      <th></th>\n",
       "      <th></th>\n",
       "      <th></th>\n",
       "      <th></th>\n",
       "      <th></th>\n",
       "      <th></th>\n",
       "      <th></th>\n",
       "      <th></th>\n",
       "      <th></th>\n",
       "      <th></th>\n",
       "      <th></th>\n",
       "      <th></th>\n",
       "    </tr>\n",
       "  </thead>\n",
       "  <tbody>\n",
       "    <tr>\n",
       "      <th>bad</th>\n",
       "      <td>559392.620915</td>\n",
       "      <td>64976.209150</td>\n",
       "      <td>1.601307</td>\n",
       "      <td>2.647059</td>\n",
       "      <td>1.281046</td>\n",
       "      <td>6.071895</td>\n",
       "      <td>3.424837</td>\n",
       "      <td>10.294118</td>\n",
       "      <td>12.477124</td>\n",
       "      <td>10.934641</td>\n",
       "      <td>1.784314</td>\n",
       "      <td>8.313725</td>\n",
       "      <td>4.084967</td>\n",
       "      <td>7.202614</td>\n",
       "      <td>1.437908</td>\n",
       "      <td>8559.934641</td>\n",
       "      <td>4215.065359</td>\n",
       "      <td>33.092791</td>\n",
       "      <td>3.936501</td>\n",
       "      <td>22.072540</td>\n",
       "      <td>15.718165</td>\n",
       "      <td>17.577758</td>\n",
       "    </tr>\n",
       "    <tr>\n",
       "      <th>good</th>\n",
       "      <td>558003.852224</td>\n",
       "      <td>64204.463415</td>\n",
       "      <td>1.479197</td>\n",
       "      <td>2.796270</td>\n",
       "      <td>1.285509</td>\n",
       "      <td>5.856528</td>\n",
       "      <td>3.248207</td>\n",
       "      <td>10.375897</td>\n",
       "      <td>12.899570</td>\n",
       "      <td>11.540890</td>\n",
       "      <td>1.680057</td>\n",
       "      <td>8.317073</td>\n",
       "      <td>3.971306</td>\n",
       "      <td>6.575323</td>\n",
       "      <td>1.505022</td>\n",
       "      <td>9473.121951</td>\n",
       "      <td>4577.882353</td>\n",
       "      <td>33.669465</td>\n",
       "      <td>5.194286</td>\n",
       "      <td>22.544887</td>\n",
       "      <td>14.336268</td>\n",
       "      <td>17.033425</td>\n",
       "    </tr>\n",
       "  </tbody>\n",
       "</table>\n",
       "</div>"
      ],
      "text/plain": [
       "            appl_id     client_id    gender  fam_status  quantity_child  \\\n",
       "df                                                                        \n",
       "bad   559392.620915  64976.209150  1.601307    2.647059        1.281046   \n",
       "good  558003.852224  64204.463415  1.479197    2.796270        1.285509   \n",
       "\n",
       "      max_age_child  property     region  region_reg  work_experience  \\\n",
       "df                                                                      \n",
       "bad        6.071895  3.424837  10.294118   12.477124        10.934641   \n",
       "good       5.856528  3.248207  10.375897   12.899570        11.540890   \n",
       "\n",
       "      empl_state  empl_type  empl_worker_count  education_area  education  \\\n",
       "df                                                                          \n",
       "bad     1.784314   8.313725           4.084967        7.202614   1.437908   \n",
       "good    1.680057   8.317073           3.971306        6.575323   1.505022   \n",
       "\n",
       "      monthlyincome  monthlycost       ages  jobsworkage    passage  \\\n",
       "df                                                                    \n",
       "bad     8559.934641  4215.065359  33.092791     3.936501  22.072540   \n",
       "good    9473.121951  4577.882353  33.669465     5.194286  22.544887   \n",
       "\n",
       "      lived_age  reg_lived  \n",
       "df                          \n",
       "bad   15.718165  17.577758  \n",
       "good  14.336268  17.033425  "
      ]
     },
     "execution_count": 42,
     "metadata": {},
     "output_type": "execute_result"
    }
   ],
   "source": [
    "pd.set_option('display.max_columns', 30)\n",
    "data.dropna().groupby('df').mean()"
   ]
  },
  {
   "cell_type": "markdown",
   "metadata": {
    "collapsed": true
   },
   "source": [
    "Как мы можем заметить, средний возраст практически одинаковый у плохих и хороших клиентов\n",
    "Средние траты и доход больший у хороших клиентов, вероятно имеет смысл оставить эту переменную. Опыт работы у клиентов ,что \n",
    "выполняют условия значительно больше, так что эта переменная тоже вероятно играет роль. Как мы можем заметить, сфера деятельности, \n",
    "количетсво сотрудников и количество детей распределено схожим образом как у хороших, так и плохих клиентов. Попробуем повести \n",
    "дополнительный анализ"
   ]
  },
  {
   "cell_type": "code",
   "execution_count": 43,
   "metadata": {},
   "outputs": [
    {
     "data": {
      "image/png": "[encoded data removed]",
      "text/plain": [
       "<matplotlib.figure.Figure at 0x156bcb38>"
      ]
     },
     "metadata": {},
     "output_type": "display_data"
    }
   ],
   "source": [
    "%matplotlib inline\n",
    "pd.crosstab(data['empl_type'],data['df']).plot(kind='bar')\n",
    "plt.title('Распределение по сфере деятельности')\n",
    "plt.xlabel('Сфера деятельности')\n",
    "plt.ylabel('Количество заявок')\n",
    "plt.show()\n",
    "#Как мы можем заметить, сфера деятельности может влиять на тип клиента"
   ]
  },
  {
   "cell_type": "code",
   "execution_count": 44,
   "metadata": {},
   "outputs": [
    {
     "data": {
      "image/png": "[encoded data removed]",
      "text/plain": [
       "<matplotlib.figure.Figure at 0x1572dba8>"
      ]
     },
     "metadata": {},
     "output_type": "display_data"
    }
   ],
   "source": [
    "# Как мы можем заметить, семейоне положение тоже имеет определенное влияние\n",
    "table=pd.crosstab(data['fam_status'],data['df'])\n",
    "table.div(table.sum(1).astype(float), axis=0).plot(kind='bar', stacked=True)\n",
    "plt.title('Влияние семейного положения на тип клиента')\n",
    "plt.xlabel('Семейное положение')\n",
    "plt.ylabel('Пропорция выданых кредитов')\n",
    "plt.show()"
   ]
  },
  {
   "cell_type": "code",
   "execution_count": 45,
   "metadata": {},
   "outputs": [
    {
     "data": {
      "image/png": "[encoded data removed]",
      "text/plain": [
       "<matplotlib.figure.Figure at 0x15525c18>"
      ]
     },
     "metadata": {},
     "output_type": "display_data"
    }
   ],
   "source": [
    "pd.crosstab(data['gender'],data['df']).plot(kind='bar')\n",
    "plt.title('Влияние пола на тип клиента')\n",
    "plt.xlabel('Пол')\n",
    "plt.ylabel('Количество заявок')\n",
    "plt.show()"
   ]
  },
  {
   "cell_type": "code",
   "execution_count": 46,
   "metadata": {},
   "outputs": [
    {
     "data": {
      "image/png": "[encoded data removed]",
      "text/plain": [
       "<matplotlib.figure.Figure at 0x157977b8>"
      ]
     },
     "metadata": {},
     "output_type": "display_data"
    }
   ],
   "source": [
    "pd.crosstab(data['empl_state'],data['df']).plot(kind='bar')\n",
    "plt.title('Влияние тип занятости')\n",
    "plt.xlabel('Тип занятости')\n",
    "plt.ylabel('Количество заявок')\n",
    "plt.show()\n",
    "#Тип занятости тоже можест стать хорошим предиктором"
   ]
  },
  {
   "cell_type": "code",
   "execution_count": 47,
   "metadata": {
    "collapsed": true
   },
   "outputs": [],
   "source": [
    "del data['appl_id']"
   ]
  },
  {
   "cell_type": "code",
   "execution_count": 48,
   "metadata": {
    "collapsed": true
   },
   "outputs": [],
   "source": [
    "data.set_index('client_id', inplace = True)"
   ]
  },
  {
   "cell_type": "code",
   "execution_count": 49,
   "metadata": {
    "collapsed": true
   },
   "outputs": [],
   "source": [
    "#Итак, соберем весь массив целиком\n",
    "data = data.join(lentht, how = 'inner')"
   ]
  },
  {
   "cell_type": "code",
   "execution_count": 50,
   "metadata": {
    "collapsed": true
   },
   "outputs": [],
   "source": [
    "#Исключим клиентов, которые пока не выполнили соглажение\n",
    "data = data.dropna(subset = ['df'])"
   ]
  },
  {
   "cell_type": "code",
   "execution_count": 51,
   "metadata": {
    "collapsed": true
   },
   "outputs": [],
   "source": [
    "#Заменим пустые ячейки нулями и преобразуем осташиеся категорийные значения\n",
    "data = data.fillna(0)\n",
    "data['df'] = data['df'].astype('category').cat.codes"
   ]
  },
  {
   "cell_type": "code",
   "execution_count": 52,
   "metadata": {},
   "outputs": [
    {
     "data": {
      "text/html": [
       "<div>\n",
       "<style>\n",
       "    .dataframe thead tr:only-child th {\n",
       "        text-align: right;\n",
       "    }\n",
       "\n",
       "    .dataframe thead th {\n",
       "        text-align: left;\n",
       "    }\n",
       "\n",
       "    .dataframe tbody tr th {\n",
       "        vertical-align: top;\n",
       "    }\n",
       "</style>\n",
       "<table border=\"1\" class=\"dataframe\">\n",
       "  <thead>\n",
       "    <tr style=\"text-align: right;\">\n",
       "      <th></th>\n",
       "      <th>gender</th>\n",
       "      <th>fam_status</th>\n",
       "      <th>quantity_child</th>\n",
       "      <th>max_age_child</th>\n",
       "      <th>property</th>\n",
       "      <th>region</th>\n",
       "      <th>region_reg</th>\n",
       "      <th>work_experience</th>\n",
       "      <th>empl_state</th>\n",
       "      <th>empl_type</th>\n",
       "      <th>empl_worker_count</th>\n",
       "      <th>education_area</th>\n",
       "      <th>education</th>\n",
       "      <th>monthlyincome</th>\n",
       "      <th>monthlycost</th>\n",
       "      <th>ages</th>\n",
       "      <th>jobsworkage</th>\n",
       "      <th>passage</th>\n",
       "      <th>lived_age</th>\n",
       "      <th>reg_lived</th>\n",
       "      <th>df</th>\n",
       "      <th>browser</th>\n",
       "      <th>platform</th>\n",
       "      <th>site_visit</th>\n",
       "      <th>site_frac</th>\n",
       "    </tr>\n",
       "    <tr>\n",
       "      <th>client_id</th>\n",
       "      <th></th>\n",
       "      <th></th>\n",
       "      <th></th>\n",
       "      <th></th>\n",
       "      <th></th>\n",
       "      <th></th>\n",
       "      <th></th>\n",
       "      <th></th>\n",
       "      <th></th>\n",
       "      <th></th>\n",
       "      <th></th>\n",
       "      <th></th>\n",
       "      <th></th>\n",
       "      <th></th>\n",
       "      <th></th>\n",
       "      <th></th>\n",
       "      <th></th>\n",
       "      <th></th>\n",
       "      <th></th>\n",
       "      <th></th>\n",
       "      <th></th>\n",
       "      <th></th>\n",
       "      <th></th>\n",
       "      <th></th>\n",
       "      <th></th>\n",
       "    </tr>\n",
       "  </thead>\n",
       "  <tbody>\n",
       "    <tr>\n",
       "      <th>87198</th>\n",
       "      <td>1</td>\n",
       "      <td>4</td>\n",
       "      <td>0</td>\n",
       "      <td>0.0</td>\n",
       "      <td>5</td>\n",
       "      <td>18</td>\n",
       "      <td>22</td>\n",
       "      <td>5</td>\n",
       "      <td>1</td>\n",
       "      <td>13.0</td>\n",
       "      <td>1.0</td>\n",
       "      <td>0.0</td>\n",
       "      <td>6</td>\n",
       "      <td>6500.0</td>\n",
       "      <td>4000.0</td>\n",
       "      <td>27.448404</td>\n",
       "      <td>2.253883</td>\n",
       "      <td>16.304110</td>\n",
       "      <td>0.336075</td>\n",
       "      <td>0.336075</td>\n",
       "      <td>0</td>\n",
       "      <td>0</td>\n",
       "      <td>0</td>\n",
       "      <td>13</td>\n",
       "      <td>70.090761</td>\n",
       "    </tr>\n",
       "    <tr>\n",
       "      <th>50111</th>\n",
       "      <td>1</td>\n",
       "      <td>3</td>\n",
       "      <td>2</td>\n",
       "      <td>4.0</td>\n",
       "      <td>1</td>\n",
       "      <td>1</td>\n",
       "      <td>2</td>\n",
       "      <td>2</td>\n",
       "      <td>3</td>\n",
       "      <td>12.0</td>\n",
       "      <td>6.0</td>\n",
       "      <td>0.0</td>\n",
       "      <td>6</td>\n",
       "      <td>6000.0</td>\n",
       "      <td>1500.0</td>\n",
       "      <td>24.669773</td>\n",
       "      <td>2.672512</td>\n",
       "      <td>20.093151</td>\n",
       "      <td>2.143745</td>\n",
       "      <td>2.143745</td>\n",
       "      <td>0</td>\n",
       "      <td>0</td>\n",
       "      <td>0</td>\n",
       "      <td>122</td>\n",
       "      <td>84912.368109</td>\n",
       "    </tr>\n",
       "    <tr>\n",
       "      <th>78479</th>\n",
       "      <td>2</td>\n",
       "      <td>4</td>\n",
       "      <td>0</td>\n",
       "      <td>0.0</td>\n",
       "      <td>5</td>\n",
       "      <td>6</td>\n",
       "      <td>8</td>\n",
       "      <td>8</td>\n",
       "      <td>1</td>\n",
       "      <td>6.0</td>\n",
       "      <td>5.0</td>\n",
       "      <td>11.0</td>\n",
       "      <td>2</td>\n",
       "      <td>7000.0</td>\n",
       "      <td>3000.0</td>\n",
       "      <td>26.837482</td>\n",
       "      <td>0.747071</td>\n",
       "      <td>16.597260</td>\n",
       "      <td>0.747071</td>\n",
       "      <td>24.933373</td>\n",
       "      <td>0</td>\n",
       "      <td>0</td>\n",
       "      <td>0</td>\n",
       "      <td>19</td>\n",
       "      <td>109324.104282</td>\n",
       "    </tr>\n",
       "    <tr>\n",
       "      <th>87254</th>\n",
       "      <td>1</td>\n",
       "      <td>1</td>\n",
       "      <td>0</td>\n",
       "      <td>0.0</td>\n",
       "      <td>1</td>\n",
       "      <td>3</td>\n",
       "      <td>8</td>\n",
       "      <td>5</td>\n",
       "      <td>1</td>\n",
       "      <td>12.0</td>\n",
       "      <td>6.0</td>\n",
       "      <td>0.0</td>\n",
       "      <td>6</td>\n",
       "      <td>9500.0</td>\n",
       "      <td>2500.0</td>\n",
       "      <td>24.607538</td>\n",
       "      <td>1.503428</td>\n",
       "      <td>18.106849</td>\n",
       "      <td>1.503428</td>\n",
       "      <td>24.686990</td>\n",
       "      <td>1</td>\n",
       "      <td>0</td>\n",
       "      <td>0</td>\n",
       "      <td>15</td>\n",
       "      <td>43.281071</td>\n",
       "    </tr>\n",
       "    <tr>\n",
       "      <th>87108</th>\n",
       "      <td>1</td>\n",
       "      <td>4</td>\n",
       "      <td>0</td>\n",
       "      <td>0.0</td>\n",
       "      <td>5</td>\n",
       "      <td>18</td>\n",
       "      <td>22</td>\n",
       "      <td>3</td>\n",
       "      <td>1</td>\n",
       "      <td>12.0</td>\n",
       "      <td>5.0</td>\n",
       "      <td>10.0</td>\n",
       "      <td>2</td>\n",
       "      <td>7500.0</td>\n",
       "      <td>4500.0</td>\n",
       "      <td>22.554998</td>\n",
       "      <td>0.998834</td>\n",
       "      <td>17.090411</td>\n",
       "      <td>22.601574</td>\n",
       "      <td>22.601574</td>\n",
       "      <td>1</td>\n",
       "      <td>0</td>\n",
       "      <td>0</td>\n",
       "      <td>18</td>\n",
       "      <td>136.334961</td>\n",
       "    </tr>\n",
       "  </tbody>\n",
       "</table>\n",
       "</div>"
      ],
      "text/plain": [
       "           gender  fam_status  quantity_child  max_age_child  property  \\\n",
       "client_id                                                                \n",
       "87198           1           4               0            0.0         5   \n",
       "50111           1           3               2            4.0         1   \n",
       "78479           2           4               0            0.0         5   \n",
       "87254           1           1               0            0.0         1   \n",
       "87108           1           4               0            0.0         5   \n",
       "\n",
       "           region  region_reg  work_experience  empl_state  empl_type  \\\n",
       "client_id                                                               \n",
       "87198          18          22                5           1       13.0   \n",
       "50111           1           2                2           3       12.0   \n",
       "78479           6           8                8           1        6.0   \n",
       "87254           3           8                5           1       12.0   \n",
       "87108          18          22                3           1       12.0   \n",
       "\n",
       "           empl_worker_count  education_area  education  monthlyincome  \\\n",
       "client_id                                                                \n",
       "87198                    1.0             0.0          6         6500.0   \n",
       "50111                    6.0             0.0          6         6000.0   \n",
       "78479                    5.0            11.0          2         7000.0   \n",
       "87254                    6.0             0.0          6         9500.0   \n",
       "87108                    5.0            10.0          2         7500.0   \n",
       "\n",
       "           monthlycost       ages  jobsworkage    passage  lived_age  \\\n",
       "client_id                                                              \n",
       "87198           4000.0  27.448404     2.253883  16.304110   0.336075   \n",
       "50111           1500.0  24.669773     2.672512  20.093151   2.143745   \n",
       "78479           3000.0  26.837482     0.747071  16.597260   0.747071   \n",
       "87254           2500.0  24.607538     1.503428  18.106849   1.503428   \n",
       "87108           4500.0  22.554998     0.998834  17.090411  22.601574   \n",
       "\n",
       "           reg_lived  df  browser  platform  site_visit      site_frac  \n",
       "client_id                                                               \n",
       "87198       0.336075   0        0         0          13      70.090761  \n",
       "50111       2.143745   0        0         0         122   84912.368109  \n",
       "78479      24.933373   0        0         0          19  109324.104282  \n",
       "87254      24.686990   1        0         0          15      43.281071  \n",
       "87108      22.601574   1        0         0          18     136.334961  "
      ]
     },
     "execution_count": 52,
     "metadata": {},
     "output_type": "execute_result"
    }
   ],
   "source": [
    "data.head()"
   ]
  },
  {
   "cell_type": "code",
   "execution_count": 53,
   "metadata": {},
   "outputs": [
    {
     "data": {
      "text/plain": [
       "Index(['gender', 'fam_status', 'quantity_child', 'max_age_child', 'property',\n",
       "       'region', 'region_reg', 'work_experience', 'empl_state', 'empl_type',\n",
       "       'empl_worker_count', 'education_area', 'education', 'monthlyincome',\n",
       "       'monthlycost', 'ages', 'jobsworkage', 'passage', 'lived_age',\n",
       "       'reg_lived', 'df', 'browser', 'platform', 'site_visit', 'site_frac'],\n",
       "      dtype='object')"
      ]
     },
     "execution_count": 53,
     "metadata": {},
     "output_type": "execute_result"
    }
   ],
   "source": [
    "data.columns"
   ]
  },
  {
   "cell_type": "code",
   "execution_count": 54,
   "metadata": {},
   "outputs": [
    {
     "data": {
      "text/plain": [
       "'\\nИтак, входные данные:\\n\\n\\nАппликационные данные клиента:\\n\\n1. client_id - идентификатор клиента\\n2. gender - пол клиента(номинативная переменная)\\n3. fam_status - семейное положение(номинативная переменная)\\n4. quantity_child - количество детей(дискретная количественная переменная)\\n5. max_age_child - возраст старшого ребенка(дискретная количественная переменная)\\n6. property - тип имущества(номинативная переменная)\\n7. region - область проживания(номинативная переменная)\\n8. region_reg - область регистрации(номинативная переменная)\\n9. work_experience - опыт работы(дискретная количественная переменная)\\n10. empl_state - тип занятости(номинативная переменная)\\n11. empl_type - сфера деятельности(номинативная переменная)\\n12. empl_worker_count - количество работников на месте работы(дискретная количественная переменная)\\n13. education_area - сфера образования(номинативная переменная)\\n14. education - тип образования(номинативная переменная)\\n15. monthlyincome - месячный доход(количественная переменная)\\n16. monthlycost - месячные убытки(количественная переменная)\\n17. age - возраст клиента(количественная переменная)\\n18. jobsworkage - сколько лет работает на последнем месте работы(количественная переменная)\\n19. passage - во сколько лет получил паспорт(количественная переменная)\\n20. lived_age - сколько лет живет в последнем месте прописки(количественная переменная)\\n21. reg_lived - сколько лет прописан в последнем месте прописки(количественная переменная)\\n\\nДанные поведения клиента на сайте:\\n22. site_visit - количество посещений сайта(количественная переменная)\\n23. site_frac - частота посещения сайта(количественная переменная)\\n24. brouser - наиболее частоиспользующийся браузер(номинативная переменная)\\n25. platform - наиболее частоиспользовавшаяся платформа(номинативная переменная)\\n\\nЦелевая функция - колонка df - выполнил ли клиент соглажение\\n\\n'"
      ]
     },
     "execution_count": 54,
     "metadata": {},
     "output_type": "execute_result"
    }
   ],
   "source": [
    "\"\"\"\n",
    "Итак, входные данные:\n",
    "\n",
    "\n",
    "Аппликационные данные клиента:\n",
    "\n",
    "1. client_id - идентификатор клиента\n",
    "2. gender - пол клиента(номинативная переменная)\n",
    "3. fam_status - семейное положение(номинативная переменная)\n",
    "4. quantity_child - количество детей(дискретная количественная переменная)\n",
    "5. max_age_child - возраст старшого ребенка(дискретная количественная переменная)\n",
    "6. property - тип имущества(номинативная переменная)\n",
    "7. region - область проживания(номинативная переменная)\n",
    "8. region_reg - область регистрации(номинативная переменная)\n",
    "9. work_experience - опыт работы(дискретная количественная переменная)\n",
    "10. empl_state - тип занятости(номинативная переменная)\n",
    "11. empl_type - сфера деятельности(номинативная переменная)\n",
    "12. empl_worker_count - количество работников на месте работы(дискретная количественная переменная)\n",
    "13. education_area - сфера образования(номинативная переменная)\n",
    "14. education - тип образования(номинативная переменная)\n",
    "15. monthlyincome - месячный доход(количественная переменная)\n",
    "16. monthlycost - месячные убытки(количественная переменная)\n",
    "17. age - возраст клиента(количественная переменная)\n",
    "18. jobsworkage - сколько лет работает на последнем месте работы(количественная переменная)\n",
    "19. passage - во сколько лет получил паспорт(количественная переменная)\n",
    "20. lived_age - сколько лет живет в последнем месте прописки(количественная переменная)\n",
    "21. reg_lived - сколько лет прописан в последнем месте прописки(количественная переменная)\n",
    "\n",
    "Данные поведения клиента на сайте:\n",
    "22. site_visit - количество посещений сайта(количественная переменная)\n",
    "23. site_frac - частота посещения сайта(количественная переменная)\n",
    "24. brouser - наиболее частоиспользующийся браузер(номинативная переменная)\n",
    "25. platform - наиболее частоиспользовавшаяся платформа(номинативная переменная)\n",
    "\n",
    "Целевая функция - колонка df - выполнил ли клиент соглажение\n",
    "\n",
    "\"\"\""
   ]
  },
  {
   "cell_type": "markdown",
   "metadata": {},
   "source": [
    "# Logistic Regression"
   ]
  },
  {
   "cell_type": "markdown",
   "metadata": {},
   "source": [
    "Создадим фиктивные переменные( dummy variables )"
   ]
  },
  {
   "cell_type": "code",
   "execution_count": 55,
   "metadata": {},
   "outputs": [
    {
     "data": {
      "text/plain": [
       "Index(['gender', 'fam_status', 'quantity_child', 'max_age_child', 'property',\n",
       "       'region', 'region_reg', 'work_experience', 'empl_state', 'empl_type',\n",
       "       'empl_worker_count', 'education_area', 'education', 'monthlyincome',\n",
       "       'monthlycost', 'ages', 'jobsworkage', 'passage', 'lived_age',\n",
       "       'reg_lived', 'df', 'browser', 'platform', 'site_visit', 'site_frac'],\n",
       "      dtype='object')"
      ]
     },
     "execution_count": 55,
     "metadata": {},
     "output_type": "execute_result"
    }
   ],
   "source": [
    "data.columns"
   ]
  },
  {
   "cell_type": "code",
   "execution_count": 56,
   "metadata": {
    "collapsed": true
   },
   "outputs": [],
   "source": [
    "cat_vars=['gender','fam_status','property','region','region_reg','empl_state','empl_type',\n",
    "          'education_area','education','browser', 'platform']\n",
    "for var in cat_vars:\n",
    "    cat_list='var'+'_'+var\n",
    "    cat_list = pd.get_dummies(data[var], prefix=var)\n",
    "    data1=data.join(cat_list)\n",
    "    data=data1\n",
    "cat_vars=['gender','fam_status','property','region','region_reg','empl_state','empl_type',\n",
    "          'education_area','education','browser', 'platform']\n",
    "data_vars=data.columns.values.tolist()\n",
    "to_keep=[i for i in data_vars if i not in cat_vars]"
   ]
  },
  {
   "cell_type": "code",
   "execution_count": 57,
   "metadata": {},
   "outputs": [
    {
     "data": {
      "text/plain": [
       "array(['quantity_child', 'max_age_child', 'work_experience',\n",
       "       'empl_worker_count', 'monthlyincome', 'monthlycost', 'ages',\n",
       "       'jobsworkage', 'passage', 'lived_age', 'reg_lived', 'df',\n",
       "       'site_visit', 'site_frac', 'gender_1', 'gender_2', 'fam_status_1',\n",
       "       'fam_status_2', 'fam_status_3', 'fam_status_4', 'fam_status_5',\n",
       "       'property_1', 'property_2', 'property_3', 'property_4',\n",
       "       'property_5', 'property_6', 'region_1', 'region_2', 'region_3',\n",
       "       'region_4', 'region_5', 'region_6', 'region_7', 'region_8',\n",
       "       'region_9', 'region_10', 'region_11', 'region_12', 'region_13',\n",
       "       'region_14', 'region_15', 'region_16', 'region_17', 'region_18',\n",
       "       'region_19', 'region_20', 'region_21', 'region_22', 'region_23',\n",
       "       'region_reg_1', 'region_reg_2', 'region_reg_3', 'region_reg_4',\n",
       "       'region_reg_5', 'region_reg_6', 'region_reg_7', 'region_reg_8',\n",
       "       'region_reg_9', 'region_reg_10', 'region_reg_11', 'region_reg_12',\n",
       "       'region_reg_13', 'region_reg_14', 'region_reg_15', 'region_reg_16',\n",
       "       'region_reg_17', 'region_reg_18', 'region_reg_19', 'region_reg_20',\n",
       "       'region_reg_21', 'region_reg_22', 'region_reg_23', 'region_reg_24',\n",
       "       'region_reg_25', 'region_reg_26', 'region_reg_27', 'empl_state_1',\n",
       "       'empl_state_2', 'empl_state_3', 'empl_state_4', 'empl_state_5',\n",
       "       'empl_state_6', 'empl_type_0.0', 'empl_type_1.0', 'empl_type_2.0',\n",
       "       'empl_type_3.0', 'empl_type_4.0', 'empl_type_5.0', 'empl_type_6.0',\n",
       "       'empl_type_7.0', 'empl_type_8.0', 'empl_type_9.0',\n",
       "       'empl_type_10.0', 'empl_type_11.0', 'empl_type_12.0',\n",
       "       'empl_type_13.0', 'education_area_0.0', 'education_area_1.0',\n",
       "       'education_area_2.0', 'education_area_3.0', 'education_area_4.0',\n",
       "       'education_area_5.0', 'education_area_6.0', 'education_area_7.0',\n",
       "       'education_area_8.0', 'education_area_9.0', 'education_area_10.0',\n",
       "       'education_area_11.0', 'education_1', 'education_2', 'education_3',\n",
       "       'education_4', 'education_5', 'education_6', 'education_7',\n",
       "       'browser_0', 'browser_1', 'browser_2', 'browser_3', 'browser_4',\n",
       "       'browser_5', 'browser_6', 'platform_0', 'platform_1', 'platform_2',\n",
       "       'platform_3'], dtype=object)"
      ]
     },
     "execution_count": 57,
     "metadata": {},
     "output_type": "execute_result"
    }
   ],
   "source": [
    "#Получаем новый набор данных\n",
    "data_final=data[to_keep]\n",
    "data_final.columns.values"
   ]
  },
  {
   "cell_type": "code",
   "execution_count": 58,
   "metadata": {},
   "outputs": [
    {
     "name": "stdout",
     "output_type": "stream",
     "text": [
      "length of oversampled data is  4812\n",
      "Number of bad clients in oversampled data 2406\n",
      "Number of good clients 2406\n",
      "Proportion of bad client`s data in oversampled data is  0.5\n",
      "Proportion of good client`s data in oversampled data is  0.5\n"
     ]
    },
    {
     "name": "stderr",
     "output_type": "stream",
     "text": [
      "D:\\Anaconda\\lib\\site-packages\\sklearn\\utils\\validation.py:752: DataConversionWarning: A column-vector y was passed when a 1d array was expected. Please change the shape of y to (n_samples, ), for example using ravel().\n",
      "  y = column_or_1d(y, warn=True)\n"
     ]
    }
   ],
   "source": [
    "#Для избежания несбалансированности данных в класификаторе используем местод дискретизации \"SMOTE\"\n",
    "X = data_final.loc[:, data_final.columns != 'df']\n",
    "y = data_final.loc[:, data_final.columns == 'df']\n",
    "os = SMOTE(random_state=0)\n",
    "X_train, X_test, y_train, y_test = train_test_split(X, y, test_size=0.2, random_state=0)\n",
    "columns = X_train.columns\n",
    "os_data_X,os_data_y=os.fit_sample(X_train, y_train)\n",
    "os_data_X = pd.DataFrame(data=os_data_X,columns=columns )\n",
    "os_data_y= pd.DataFrame(data=os_data_y,columns=['df'])\n",
    "# we can Check the numbers of our data\n",
    "print(\"length of oversampled data is \",len(os_data_X))\n",
    "print(\"Number of bad clients in oversampled data\",len(os_data_y[os_data_y['df']==0]))\n",
    "print(\"Number of good clients\",len(os_data_y[os_data_y['df']==1]))\n",
    "print(\"Proportion of bad client`s data in oversampled data is \",len(os_data_y[os_data_y['df']==0])/len(os_data_X))\n",
    "print(\"Proportion of good client`s data in oversampled data is \",len(os_data_y[os_data_y['df']==1])/len(os_data_X))"
   ]
  },
  {
   "cell_type": "code",
   "execution_count": 108,
   "metadata": {},
   "outputs": [
    {
     "name": "stderr",
     "output_type": "stream",
     "text": [
      "D:\\Anaconda\\lib\\site-packages\\sklearn\\linear_model\\logistic.py:432: FutureWarning: Default solver will be changed to 'lbfgs' in 0.22. Specify a solver to silence this warning.\n",
      "  FutureWarning)\n",
      "D:\\Anaconda\\lib\\site-packages\\sklearn\\linear_model\\logistic.py:432: FutureWarning: Default solver will be changed to 'lbfgs' in 0.22. Specify a solver to silence this warning.\n",
      "  FutureWarning)\n",
      "D:\\Anaconda\\lib\\site-packages\\sklearn\\linear_model\\logistic.py:432: FutureWarning: Default solver will be changed to 'lbfgs' in 0.22. Specify a solver to silence this warning.\n",
      "  FutureWarning)\n",
      "D:\\Anaconda\\lib\\site-packages\\sklearn\\linear_model\\logistic.py:432: FutureWarning: Default solver will be changed to 'lbfgs' in 0.22. Specify a solver to silence this warning.\n",
      "  FutureWarning)\n",
      "D:\\Anaconda\\lib\\site-packages\\sklearn\\linear_model\\logistic.py:432: FutureWarning: Default solver will be changed to 'lbfgs' in 0.22. Specify a solver to silence this warning.\n",
      "  FutureWarning)\n",
      "D:\\Anaconda\\lib\\site-packages\\sklearn\\linear_model\\logistic.py:432: FutureWarning: Default solver will be changed to 'lbfgs' in 0.22. Specify a solver to silence this warning.\n",
      "  FutureWarning)\n",
      "D:\\Anaconda\\lib\\site-packages\\sklearn\\linear_model\\logistic.py:432: FutureWarning: Default solver will be changed to 'lbfgs' in 0.22. Specify a solver to silence this warning.\n",
      "  FutureWarning)\n",
      "D:\\Anaconda\\lib\\site-packages\\sklearn\\linear_model\\logistic.py:432: FutureWarning: Default solver will be changed to 'lbfgs' in 0.22. Specify a solver to silence this warning.\n",
      "  FutureWarning)\n",
      "D:\\Anaconda\\lib\\site-packages\\sklearn\\linear_model\\logistic.py:432: FutureWarning: Default solver will be changed to 'lbfgs' in 0.22. Specify a solver to silence this warning.\n",
      "  FutureWarning)\n",
      "D:\\Anaconda\\lib\\site-packages\\sklearn\\linear_model\\logistic.py:432: FutureWarning: Default solver will be changed to 'lbfgs' in 0.22. Specify a solver to silence this warning.\n",
      "  FutureWarning)\n",
      "D:\\Anaconda\\lib\\site-packages\\sklearn\\linear_model\\logistic.py:432: FutureWarning: Default solver will be changed to 'lbfgs' in 0.22. Specify a solver to silence this warning.\n",
      "  FutureWarning)\n",
      "D:\\Anaconda\\lib\\site-packages\\sklearn\\linear_model\\logistic.py:432: FutureWarning: Default solver will be changed to 'lbfgs' in 0.22. Specify a solver to silence this warning.\n",
      "  FutureWarning)\n",
      "D:\\Anaconda\\lib\\site-packages\\sklearn\\linear_model\\logistic.py:432: FutureWarning: Default solver will be changed to 'lbfgs' in 0.22. Specify a solver to silence this warning.\n",
      "  FutureWarning)\n",
      "D:\\Anaconda\\lib\\site-packages\\sklearn\\linear_model\\logistic.py:432: FutureWarning: Default solver will be changed to 'lbfgs' in 0.22. Specify a solver to silence this warning.\n",
      "  FutureWarning)\n",
      "D:\\Anaconda\\lib\\site-packages\\sklearn\\linear_model\\logistic.py:432: FutureWarning: Default solver will be changed to 'lbfgs' in 0.22. Specify a solver to silence this warning.\n",
      "  FutureWarning)\n",
      "D:\\Anaconda\\lib\\site-packages\\sklearn\\linear_model\\logistic.py:432: FutureWarning: Default solver will be changed to 'lbfgs' in 0.22. Specify a solver to silence this warning.\n",
      "  FutureWarning)\n",
      "D:\\Anaconda\\lib\\site-packages\\sklearn\\linear_model\\logistic.py:432: FutureWarning: Default solver will be changed to 'lbfgs' in 0.22. Specify a solver to silence this warning.\n",
      "  FutureWarning)\n",
      "D:\\Anaconda\\lib\\site-packages\\sklearn\\linear_model\\logistic.py:432: FutureWarning: Default solver will be changed to 'lbfgs' in 0.22. Specify a solver to silence this warning.\n",
      "  FutureWarning)\n",
      "D:\\Anaconda\\lib\\site-packages\\sklearn\\linear_model\\logistic.py:432: FutureWarning: Default solver will be changed to 'lbfgs' in 0.22. Specify a solver to silence this warning.\n",
      "  FutureWarning)\n",
      "D:\\Anaconda\\lib\\site-packages\\sklearn\\linear_model\\logistic.py:432: FutureWarning: Default solver will be changed to 'lbfgs' in 0.22. Specify a solver to silence this warning.\n",
      "  FutureWarning)\n",
      "D:\\Anaconda\\lib\\site-packages\\sklearn\\linear_model\\logistic.py:432: FutureWarning: Default solver will be changed to 'lbfgs' in 0.22. Specify a solver to silence this warning.\n",
      "  FutureWarning)\n",
      "D:\\Anaconda\\lib\\site-packages\\sklearn\\linear_model\\logistic.py:432: FutureWarning: Default solver will be changed to 'lbfgs' in 0.22. Specify a solver to silence this warning.\n",
      "  FutureWarning)\n",
      "D:\\Anaconda\\lib\\site-packages\\sklearn\\linear_model\\logistic.py:432: FutureWarning: Default solver will be changed to 'lbfgs' in 0.22. Specify a solver to silence this warning.\n",
      "  FutureWarning)\n",
      "D:\\Anaconda\\lib\\site-packages\\sklearn\\linear_model\\logistic.py:432: FutureWarning: Default solver will be changed to 'lbfgs' in 0.22. Specify a solver to silence this warning.\n",
      "  FutureWarning)\n",
      "D:\\Anaconda\\lib\\site-packages\\sklearn\\linear_model\\logistic.py:432: FutureWarning: Default solver will be changed to 'lbfgs' in 0.22. Specify a solver to silence this warning.\n",
      "  FutureWarning)\n",
      "D:\\Anaconda\\lib\\site-packages\\sklearn\\linear_model\\logistic.py:432: FutureWarning: Default solver will be changed to 'lbfgs' in 0.22. Specify a solver to silence this warning.\n",
      "  FutureWarning)\n",
      "D:\\Anaconda\\lib\\site-packages\\sklearn\\linear_model\\logistic.py:432: FutureWarning: Default solver will be changed to 'lbfgs' in 0.22. Specify a solver to silence this warning.\n",
      "  FutureWarning)\n",
      "D:\\Anaconda\\lib\\site-packages\\sklearn\\linear_model\\logistic.py:432: FutureWarning: Default solver will be changed to 'lbfgs' in 0.22. Specify a solver to silence this warning.\n",
      "  FutureWarning)\n",
      "D:\\Anaconda\\lib\\site-packages\\sklearn\\linear_model\\logistic.py:432: FutureWarning: Default solver will be changed to 'lbfgs' in 0.22. Specify a solver to silence this warning.\n",
      "  FutureWarning)\n",
      "D:\\Anaconda\\lib\\site-packages\\sklearn\\linear_model\\logistic.py:432: FutureWarning: Default solver will be changed to 'lbfgs' in 0.22. Specify a solver to silence this warning.\n",
      "  FutureWarning)\n",
      "D:\\Anaconda\\lib\\site-packages\\sklearn\\linear_model\\logistic.py:432: FutureWarning: Default solver will be changed to 'lbfgs' in 0.22. Specify a solver to silence this warning.\n",
      "  FutureWarning)\n",
      "D:\\Anaconda\\lib\\site-packages\\sklearn\\linear_model\\logistic.py:432: FutureWarning: Default solver will be changed to 'lbfgs' in 0.22. Specify a solver to silence this warning.\n",
      "  FutureWarning)\n",
      "D:\\Anaconda\\lib\\site-packages\\sklearn\\linear_model\\logistic.py:432: FutureWarning: Default solver will be changed to 'lbfgs' in 0.22. Specify a solver to silence this warning.\n",
      "  FutureWarning)\n",
      "D:\\Anaconda\\lib\\site-packages\\sklearn\\linear_model\\logistic.py:432: FutureWarning: Default solver will be changed to 'lbfgs' in 0.22. Specify a solver to silence this warning.\n",
      "  FutureWarning)\n",
      "D:\\Anaconda\\lib\\site-packages\\sklearn\\linear_model\\logistic.py:432: FutureWarning: Default solver will be changed to 'lbfgs' in 0.22. Specify a solver to silence this warning.\n",
      "  FutureWarning)\n",
      "D:\\Anaconda\\lib\\site-packages\\sklearn\\linear_model\\logistic.py:432: FutureWarning: Default solver will be changed to 'lbfgs' in 0.22. Specify a solver to silence this warning.\n",
      "  FutureWarning)\n",
      "D:\\Anaconda\\lib\\site-packages\\sklearn\\linear_model\\logistic.py:432: FutureWarning: Default solver will be changed to 'lbfgs' in 0.22. Specify a solver to silence this warning.\n",
      "  FutureWarning)\n",
      "D:\\Anaconda\\lib\\site-packages\\sklearn\\linear_model\\logistic.py:432: FutureWarning: Default solver will be changed to 'lbfgs' in 0.22. Specify a solver to silence this warning.\n",
      "  FutureWarning)\n",
      "D:\\Anaconda\\lib\\site-packages\\sklearn\\linear_model\\logistic.py:432: FutureWarning: Default solver will be changed to 'lbfgs' in 0.22. Specify a solver to silence this warning.\n",
      "  FutureWarning)\n",
      "D:\\Anaconda\\lib\\site-packages\\sklearn\\linear_model\\logistic.py:432: FutureWarning: Default solver will be changed to 'lbfgs' in 0.22. Specify a solver to silence this warning.\n",
      "  FutureWarning)\n",
      "D:\\Anaconda\\lib\\site-packages\\sklearn\\linear_model\\logistic.py:432: FutureWarning: Default solver will be changed to 'lbfgs' in 0.22. Specify a solver to silence this warning.\n",
      "  FutureWarning)\n",
      "D:\\Anaconda\\lib\\site-packages\\sklearn\\linear_model\\logistic.py:432: FutureWarning: Default solver will be changed to 'lbfgs' in 0.22. Specify a solver to silence this warning.\n",
      "  FutureWarning)\n",
      "D:\\Anaconda\\lib\\site-packages\\sklearn\\linear_model\\logistic.py:432: FutureWarning: Default solver will be changed to 'lbfgs' in 0.22. Specify a solver to silence this warning.\n",
      "  FutureWarning)\n",
      "D:\\Anaconda\\lib\\site-packages\\sklearn\\linear_model\\logistic.py:432: FutureWarning: Default solver will be changed to 'lbfgs' in 0.22. Specify a solver to silence this warning.\n",
      "  FutureWarning)\n"
     ]
    },
    {
     "name": "stderr",
     "output_type": "stream",
     "text": [
      "D:\\Anaconda\\lib\\site-packages\\sklearn\\linear_model\\logistic.py:432: FutureWarning: Default solver will be changed to 'lbfgs' in 0.22. Specify a solver to silence this warning.\n",
      "  FutureWarning)\n",
      "D:\\Anaconda\\lib\\site-packages\\sklearn\\linear_model\\logistic.py:432: FutureWarning: Default solver will be changed to 'lbfgs' in 0.22. Specify a solver to silence this warning.\n",
      "  FutureWarning)\n",
      "D:\\Anaconda\\lib\\site-packages\\sklearn\\linear_model\\logistic.py:432: FutureWarning: Default solver will be changed to 'lbfgs' in 0.22. Specify a solver to silence this warning.\n",
      "  FutureWarning)\n",
      "D:\\Anaconda\\lib\\site-packages\\sklearn\\linear_model\\logistic.py:432: FutureWarning: Default solver will be changed to 'lbfgs' in 0.22. Specify a solver to silence this warning.\n",
      "  FutureWarning)\n",
      "D:\\Anaconda\\lib\\site-packages\\sklearn\\linear_model\\logistic.py:432: FutureWarning: Default solver will be changed to 'lbfgs' in 0.22. Specify a solver to silence this warning.\n",
      "  FutureWarning)\n",
      "D:\\Anaconda\\lib\\site-packages\\sklearn\\linear_model\\logistic.py:432: FutureWarning: Default solver will be changed to 'lbfgs' in 0.22. Specify a solver to silence this warning.\n",
      "  FutureWarning)\n",
      "D:\\Anaconda\\lib\\site-packages\\sklearn\\linear_model\\logistic.py:432: FutureWarning: Default solver will be changed to 'lbfgs' in 0.22. Specify a solver to silence this warning.\n",
      "  FutureWarning)\n",
      "D:\\Anaconda\\lib\\site-packages\\sklearn\\linear_model\\logistic.py:432: FutureWarning: Default solver will be changed to 'lbfgs' in 0.22. Specify a solver to silence this warning.\n",
      "  FutureWarning)\n",
      "D:\\Anaconda\\lib\\site-packages\\sklearn\\linear_model\\logistic.py:432: FutureWarning: Default solver will be changed to 'lbfgs' in 0.22. Specify a solver to silence this warning.\n",
      "  FutureWarning)\n",
      "D:\\Anaconda\\lib\\site-packages\\sklearn\\linear_model\\logistic.py:432: FutureWarning: Default solver will be changed to 'lbfgs' in 0.22. Specify a solver to silence this warning.\n",
      "  FutureWarning)\n",
      "D:\\Anaconda\\lib\\site-packages\\sklearn\\linear_model\\logistic.py:432: FutureWarning: Default solver will be changed to 'lbfgs' in 0.22. Specify a solver to silence this warning.\n",
      "  FutureWarning)\n",
      "D:\\Anaconda\\lib\\site-packages\\sklearn\\linear_model\\logistic.py:432: FutureWarning: Default solver will be changed to 'lbfgs' in 0.22. Specify a solver to silence this warning.\n",
      "  FutureWarning)\n",
      "D:\\Anaconda\\lib\\site-packages\\sklearn\\linear_model\\logistic.py:432: FutureWarning: Default solver will be changed to 'lbfgs' in 0.22. Specify a solver to silence this warning.\n",
      "  FutureWarning)\n",
      "D:\\Anaconda\\lib\\site-packages\\sklearn\\linear_model\\logistic.py:432: FutureWarning: Default solver will be changed to 'lbfgs' in 0.22. Specify a solver to silence this warning.\n",
      "  FutureWarning)\n",
      "D:\\Anaconda\\lib\\site-packages\\sklearn\\linear_model\\logistic.py:432: FutureWarning: Default solver will be changed to 'lbfgs' in 0.22. Specify a solver to silence this warning.\n",
      "  FutureWarning)\n",
      "D:\\Anaconda\\lib\\site-packages\\sklearn\\linear_model\\logistic.py:432: FutureWarning: Default solver will be changed to 'lbfgs' in 0.22. Specify a solver to silence this warning.\n",
      "  FutureWarning)\n",
      "D:\\Anaconda\\lib\\site-packages\\sklearn\\linear_model\\logistic.py:432: FutureWarning: Default solver will be changed to 'lbfgs' in 0.22. Specify a solver to silence this warning.\n",
      "  FutureWarning)\n",
      "D:\\Anaconda\\lib\\site-packages\\sklearn\\linear_model\\logistic.py:432: FutureWarning: Default solver will be changed to 'lbfgs' in 0.22. Specify a solver to silence this warning.\n",
      "  FutureWarning)\n"
     ]
    },
    {
     "name": "stdout",
     "output_type": "stream",
     "text": [
      "[False False False False False False False False False False False False\n",
      " False  True False False  True  True False False False False  True False\n",
      "  True  True  True False  True False  True  True  True  True  True  True\n",
      "  True False  True  True  True  True  True False False  True False  True\n",
      "  True False  True  True  True  True False  True  True  True False  True\n",
      "  True  True False False  True  True  True  True  True False False  True\n",
      "  True False False  True False  True False False  True False False  True\n",
      " False  True  True False False  True  True  True  True False  True  True\n",
      "  True  True False False False False  True False False False  True False\n",
      " False False  True False False False  True False False  True  True False\n",
      "  True  True False False  True False]\n",
      "[ 6 56 55 52 62 61 39 45 40 49 50 58 63  1 46  5  1  1 60  7 38 26  1 33\n",
      "  1  1  1 53  1 31  1  1  1  1  1  1  1 59  1  1  1  1  1 21 18  1 16  1\n",
      "  1 64  1  1  1  1 17  1  1  1 20  1  1  1 10 12  1  1  1  1  1  2 25  1\n",
      "  1 43 19  1  3  1 28 32  1 44 22  1 23  1  1 47 57  1  1  1  1 24  1  1\n",
      "  1  1 27 51  8 41  1 37 29 35  1 42 36  9  1  4 48 11  1 15 14  1  1 30\n",
      "  1  1 34 13  1 54]\n"
     ]
    },
    {
     "name": "stderr",
     "output_type": "stream",
     "text": [
      "D:\\Anaconda\\lib\\site-packages\\sklearn\\linear_model\\logistic.py:432: FutureWarning: Default solver will be changed to 'lbfgs' in 0.22. Specify a solver to silence this warning.\n",
      "  FutureWarning)\n",
      "D:\\Anaconda\\lib\\site-packages\\sklearn\\linear_model\\logistic.py:432: FutureWarning: Default solver will be changed to 'lbfgs' in 0.22. Specify a solver to silence this warning.\n",
      "  FutureWarning)\n"
     ]
    }
   ],
   "source": [
    "#Избавимся от коллинеарности переменных методом RFE\n",
    "import warnings\n",
    "warnings.simplefilter(action='ignore', category=FutureWarning)\n",
    "data_final_vars=data_final.columns.values.tolist()\n",
    "y=['df']\n",
    "X=[i for i in data_final_vars if i not in y]\n",
    "logreg = LogisticRegression()\n",
    "rfe = RFE(logreg)\n",
    "rfe = rfe.fit(os_data_X, os_data_y.values.ravel())\n",
    "print(rfe.support_)\n",
    "print(rfe.ranking_)"
   ]
  },
  {
   "cell_type": "code",
   "execution_count": 67,
   "metadata": {},
   "outputs": [
    {
     "data": {
      "text/plain": [
       "[('quantity_child', 0.013140087036795303),\n",
       " ('max_age_child', 0.015173070300034789),\n",
       " ('work_experience', 0.02919756610490813),\n",
       " ('empl_worker_count', 0.020845553844599733),\n",
       " ('monthlyincome', 0.02628238378204455),\n",
       " ('monthlycost', 0.02564135405007927),\n",
       " ('ages', 0.033664332375123354),\n",
       " ('jobsworkage', 0.03179361402485584),\n",
       " ('passage', 0.031284886243836435),\n",
       " ('lived_age', 0.03176822621016466),\n",
       " ('reg_lived', 0.030079724234697458),\n",
       " ('site_visit', 0.027110911053271118),\n",
       " ('site_frac', 0.029914650882829498),\n",
       " ('gender_1', 0.027015964709738723),\n",
       " ('gender_2', 0.04149672460623952),\n",
       " ('fam_status_1', 0.003308209323935636),\n",
       " ('fam_status_2', 0.00303043925455749),\n",
       " ('fam_status_3', 0.0299688654093491),\n",
       " ('fam_status_4', 0.016809857337307606),\n",
       " ('fam_status_5', 0.00026891181246766957),\n",
       " ('property_1', 0.03465336260422022),\n",
       " ('property_2', 0.0011154878389625358),\n",
       " ('property_3', 0.003653774687740753),\n",
       " ('property_4', 0.005665373032238007),\n",
       " ('property_5', 0.03579419469757069),\n",
       " ('property_6', 0.0003316554907197668),\n",
       " ('region_1', 0.0013260843714246978),\n",
       " ('region_2', 0.0037004770957689685),\n",
       " ('region_3', 0.00382516948362674),\n",
       " ('region_4', 0.0023787818864074014),\n",
       " ('region_5', 0.0018160406076611264),\n",
       " ('region_6', 0.0023430978105187248),\n",
       " ('region_7', 0.00033435087502250516),\n",
       " ('region_8', 0.013619140230393376),\n",
       " ('region_9', 0.003912874183390652),\n",
       " ('region_10', 0.0017181376786330337),\n",
       " ('region_11', 0.0030846776728915056),\n",
       " ('region_12', 0.0022297513914939756),\n",
       " ('region_13', 0.0051433592955578275),\n",
       " ('region_14', 0.0027163313450789426),\n",
       " ('region_15', 0.0012083346183757574),\n",
       " ('region_16', 0.0018815470667625956),\n",
       " ('region_17', 0.000396433235944959),\n",
       " ('region_18', 0.0032037343820694756),\n",
       " ('region_19', 0.0011533804465418572),\n",
       " ('region_20', 0.003048710912711496),\n",
       " ('region_21', 0.002320580285604733),\n",
       " ('region_22', 0.00021727538575837916),\n",
       " ('region_23', 0.002081301592101059),\n",
       " ('region_reg_1', 0.0),\n",
       " ('region_reg_2', 0.0015400558284771053),\n",
       " ('region_reg_3', 0.0017608799234049108),\n",
       " ('region_reg_4', 0.0060172552300184175),\n",
       " ('region_reg_5', 0.001530432511329738),\n",
       " ('region_reg_6', 0.001631346164852887),\n",
       " ('region_reg_7', 0.0026640229520611203),\n",
       " ('region_reg_8', 0.003997066042260534),\n",
       " ('region_reg_9', 0.0008155336115973274),\n",
       " ('region_reg_10', 0.005313134340240485),\n",
       " ('region_reg_11', 0.0033597462643275657),\n",
       " ('region_reg_12', 0.00200868376232642),\n",
       " ('region_reg_13', 0.0008176459529393937),\n",
       " ('region_reg_14', 0.0017924878337041883),\n",
       " ('region_reg_15', 0.002224972651772902),\n",
       " ('region_reg_16', 0.0038458678539543046),\n",
       " ('region_reg_17', 0.004166468833536266),\n",
       " ('region_reg_18', 0.0020053606344247227),\n",
       " ('region_reg_19', 0.0),\n",
       " ('region_reg_20', 0.0025896687266049067),\n",
       " ('region_reg_21', 0.0009642963972185988),\n",
       " ('region_reg_22', 0.0050693758544011844),\n",
       " ('region_reg_23', 0.0014465669657070777),\n",
       " ('region_reg_24', 0.0016041269571262923),\n",
       " ('region_reg_25', 0.0017753588651565524),\n",
       " ('region_reg_26', 0.0007662371494453776),\n",
       " ('region_reg_27', 0.001151452332216855),\n",
       " ('empl_state_1', 0.007577077238954973),\n",
       " ('empl_state_2', 0.0012378327814688537),\n",
       " ('empl_state_3', 0.005657721400140666),\n",
       " ('empl_state_4', 0.0015102695971648417),\n",
       " ('empl_state_5', 0.002070329896630175),\n",
       " ('empl_state_6', 0.004344597130197428),\n",
       " ('empl_type_0.0', 0.0031065807099128723),\n",
       " ('empl_type_1.0', 0.002361012558406637),\n",
       " ('empl_type_2.0', 0.003103047877359786),\n",
       " ('empl_type_3.0', 0.004706831054930288),\n",
       " ('empl_type_4.0', 0.002494655605160339),\n",
       " ('empl_type_5.0', 0.0019215488038890852),\n",
       " ('empl_type_6.0', 0.005452776453049877),\n",
       " ('empl_type_7.0', 0.0038472252203532987),\n",
       " ('empl_type_8.0', 0.002751962459780436),\n",
       " ('empl_type_9.0', 0.0018205378781919377),\n",
       " ('empl_type_10.0', 0.0013614015212890219),\n",
       " ('empl_type_11.0', 0.007396775126039731),\n",
       " ('empl_type_12.0', 0.012723364352280084),\n",
       " ('empl_type_13.0', 0.004037222043525109),\n",
       " ('education_area_0.0', 0.03466364296711416),\n",
       " ('education_area_1.0', 0.0002002454252358641),\n",
       " ('education_area_2.0', 0.0018939993886699688),\n",
       " ('education_area_3.0', 0.000813497466961109),\n",
       " ('education_area_4.0', 0.0064413024213349325),\n",
       " ('education_area_5.0', 0.0010572475033511284),\n",
       " ('education_area_6.0', 0.004733197575544182),\n",
       " ('education_area_7.0', 0.0019586795739410957),\n",
       " ('education_area_8.0', 0.0012960414873222643),\n",
       " ('education_area_9.0', 0.004441718429128043),\n",
       " ('education_area_10.0', 0.0030179385412109918),\n",
       " ('education_area_11.0', 0.005922813907797745),\n",
       " ('education_1', 0.027747207703029426),\n",
       " ('education_2', 0.008628812614467945),\n",
       " ('education_3', 0.0021187543600796823),\n",
       " ('education_4', 0.0),\n",
       " ('education_5', 0.012650199903902495),\n",
       " ('education_6', 0.0209127821391192),\n",
       " ('education_7', 0.0014536314844088513),\n",
       " ('browser_0', 0.03141711389021745),\n",
       " ('browser_1', 0.0015984541102446216),\n",
       " ('browser_2', 0.001546112124840128),\n",
       " ('browser_3', 0.004131064288438681),\n",
       " ('browser_4', 0.0004330646379818613),\n",
       " ('browser_5', 0.0037175605031243785),\n",
       " ('browser_6', 0.002539639670999544),\n",
       " ('platform_0', 0.02686005772737956),\n",
       " ('platform_1', 0.013985448913809744),\n",
       " ('platform_2', 0.0022078008704343394),\n",
       " ('platform_3', 0.018602404220052382)]"
      ]
     },
     "execution_count": 67,
     "metadata": {},
     "output_type": "execute_result"
    }
   ],
   "source": [
    "list(zip(X_train, clf.feature_importances_))"
   ]
  },
  {
   "cell_type": "code",
   "execution_count": 109,
   "metadata": {
    "collapsed": true
   },
   "outputs": [],
   "source": [
    "#Оставляем в массиве наиболее независимые переменные, расчитанные в предыдущем блоке\n",
    "cols = []\n",
    "for i in range(len(rfe.support_)):\n",
    "    if rfe.support_[i]:\n",
    "        cols.append(os_data_X.columns.values[i])"
   ]
  },
  {
   "cell_type": "code",
   "execution_count": 110,
   "metadata": {},
   "outputs": [
    {
     "data": {
      "text/plain": [
       "['gender_1',\n",
       " 'fam_status_2',\n",
       " 'fam_status_3',\n",
       " 'property_3',\n",
       " 'property_5',\n",
       " 'property_6',\n",
       " 'region_1',\n",
       " 'region_3',\n",
       " 'region_5',\n",
       " 'region_6',\n",
       " 'region_7',\n",
       " 'region_8',\n",
       " 'region_9',\n",
       " 'region_10',\n",
       " 'region_11',\n",
       " 'region_13',\n",
       " 'region_14',\n",
       " 'region_15',\n",
       " 'region_16',\n",
       " 'region_17',\n",
       " 'region_20',\n",
       " 'region_22',\n",
       " 'region_23',\n",
       " 'region_reg_2',\n",
       " 'region_reg_3',\n",
       " 'region_reg_4',\n",
       " 'region_reg_5',\n",
       " 'region_reg_7',\n",
       " 'region_reg_8',\n",
       " 'region_reg_9',\n",
       " 'region_reg_11',\n",
       " 'region_reg_12',\n",
       " 'region_reg_13',\n",
       " 'region_reg_16',\n",
       " 'region_reg_17',\n",
       " 'region_reg_18',\n",
       " 'region_reg_19',\n",
       " 'region_reg_20',\n",
       " 'region_reg_23',\n",
       " 'region_reg_24',\n",
       " 'region_reg_27',\n",
       " 'empl_state_2',\n",
       " 'empl_state_5',\n",
       " 'empl_type_1.0',\n",
       " 'empl_type_3.0',\n",
       " 'empl_type_4.0',\n",
       " 'empl_type_7.0',\n",
       " 'empl_type_8.0',\n",
       " 'empl_type_9.0',\n",
       " 'empl_type_10.0',\n",
       " 'empl_type_12.0',\n",
       " 'empl_type_13.0',\n",
       " 'education_area_0.0',\n",
       " 'education_area_1.0',\n",
       " 'education_area_6.0',\n",
       " 'education_area_10.0',\n",
       " 'education_3',\n",
       " 'education_7',\n",
       " 'browser_2',\n",
       " 'browser_3',\n",
       " 'browser_5',\n",
       " 'browser_6',\n",
       " 'platform_2']"
      ]
     },
     "execution_count": 110,
     "metadata": {},
     "output_type": "execute_result"
    }
   ],
   "source": [
    "cols"
   ]
  },
  {
   "cell_type": "code",
   "execution_count": 111,
   "metadata": {
    "collapsed": true
   },
   "outputs": [],
   "source": [
    "X=os_data_X[cols]\n",
    "y=os_data_y['df']"
   ]
  },
  {
   "cell_type": "code",
   "execution_count": 112,
   "metadata": {},
   "outputs": [
    {
     "name": "stdout",
     "output_type": "stream",
     "text": [
      "Warning: Maximum number of iterations has been exceeded.\n",
      "         Current function value: 0.648941\n",
      "         Iterations: 35\n",
      "                                    Results: Logit\n",
      "======================================================================================\n",
      "Model:                     Logit                   Pseudo R-squared:        0.064     \n",
      "Dependent Variable:        df                      AIC:                     6371.4046 \n",
      "Date:                      2018-10-25 13:10        BIC:                     6779.5733 \n",
      "No. Observations:          4812                    Log-Likelihood:          -3122.7   \n",
      "Df Model:                  62                      LL-Null:                 -3335.4   \n",
      "Df Residuals:              4749                    LLR p-value:             1.2370e-55\n",
      "Converged:                 0.0000                  Scale:                   1.0000    \n",
      "No. Iterations:            35.0000                                                    \n",
      "--------------------------------------------------------------------------------------\n",
      "                     Coef.      Std.Err.      z    P>|z|      [0.025         0.975]   \n",
      "--------------------------------------------------------------------------------------\n",
      "gender_1              0.4652        0.0739  6.2912 0.0000         0.3203        0.6102\n",
      "fam_status_2         -0.1774        0.1207 -1.4701 0.1415        -0.4140        0.0591\n",
      "fam_status_3          0.3600        0.0730  4.9290 0.0000         0.2168        0.5031\n",
      "property_3           -0.4561        0.1431 -3.1860 0.0014        -0.7366       -0.1755\n",
      "property_5           -0.3935        0.0654 -6.0137 0.0000        -0.5217       -0.2652\n",
      "property_6            0.6985        0.5091  1.3721 0.1700        -0.2993        1.6963\n",
      "region_1             -0.5934        0.6391 -0.9285 0.3532        -1.8460        0.6592\n",
      "region_3              0.4602        0.3235  1.4226 0.1548        -0.1738        1.0942\n",
      "region_5             -1.8563        1.1651 -1.5932 0.1111        -4.1399        0.4274\n",
      "region_6             -0.9316        0.4539 -2.0524 0.0401        -1.8213       -0.0419\n",
      "region_7             -0.1181        0.7610 -0.1552 0.8766        -1.6096        1.3734\n",
      "region_8              0.3808        0.1059  3.5966 0.0003         0.1733        0.5883\n",
      "region_9             -0.6214        0.2943 -2.1115 0.0347        -1.1981       -0.0446\n",
      "region_10             0.6897        0.4797  1.4377 0.1505        -0.2505        1.6298\n",
      "region_11             0.1891        0.1526  1.2390 0.2153        -0.1100        0.4883\n",
      "region_13             1.6340        0.4514  3.6201 0.0003         0.7493        2.5187\n",
      "region_14            -0.9667        0.5479 -1.7644 0.0777        -2.0406        0.1072\n",
      "region_15             0.5057        0.6395  0.7908 0.4291        -0.7477        1.7590\n",
      "region_16             1.1896        0.5418  2.1956 0.0281         0.1277        2.2516\n",
      "region_17             1.1126        0.3427  3.2466 0.0012         0.4409        1.7843\n",
      "region_20           -34.0620  6319190.3178 -0.0000 1.0000 -12385419.4962 12385351.3723\n",
      "region_22             0.2322        0.3226  0.7199 0.4716        -0.4000        0.8644\n",
      "region_23            -0.6279        0.5135 -1.2227 0.2215        -1.6344        0.3786\n",
      "region_reg_2          1.0258        0.6297  1.6289 0.1033        -0.2084        2.2600\n",
      "region_reg_3         -0.2354        0.2129 -1.1058 0.2688        -0.6526        0.1818\n",
      "region_reg_4         -0.4736        0.3219 -1.4714 0.1412        -1.1046        0.1573\n",
      "region_reg_5         -0.2800        0.3300 -0.8487 0.3961        -0.9268        0.3667\n",
      "region_reg_7          1.4089        1.1514  1.2236 0.2211        -0.8478        3.6655\n",
      "region_reg_8          0.9171        0.4470  2.0517 0.0402         0.0410        1.7933\n",
      "region_reg_9          0.9443        0.7505  1.2582 0.2083        -0.5267        2.4153\n",
      "region_reg_11         0.8414        0.3059  2.7505 0.0060         0.2418        1.4410\n",
      "region_reg_12        -0.2915        0.4544 -0.6416 0.5211        -1.1821        0.5990\n",
      "region_reg_13        -0.3096        0.4561 -0.6789 0.4972        -1.2036        0.5843\n",
      "region_reg_16        -1.1942        0.4510 -2.6479 0.0081        -2.0781       -0.3102\n",
      "region_reg_17         1.1849        0.5421  2.1857 0.0288         0.1224        2.2473\n",
      "region_reg_18        -0.4263        0.6018 -0.7083 0.4787        -1.6057        0.7532\n",
      "region_reg_19        34.0077 33554432.0000  0.0000 1.0000 -65765444.2340 65765512.2494\n",
      "region_reg_20        -1.4527        0.5129 -2.8325 0.0046        -2.4580       -0.4475\n",
      "region_reg_23         0.1986        0.2060  0.9644 0.3348        -0.2051        0.6023\n",
      "region_reg_24        33.7883  6319190.3178  0.0000 1.0000 -12385351.6459 12385419.2226\n",
      "region_reg_27         0.7716        0.5010  1.5400 0.1236        -0.2104        1.7536\n",
      "empl_state_2         -0.6533        0.2586 -2.5259 0.0115        -1.1603       -0.1464\n",
      "empl_state_5          0.3969        0.1634  2.4294 0.0151         0.0767        0.7171\n",
      "empl_type_1.0         0.5197        0.1766  2.9434 0.0032         0.1736        0.8658\n",
      "empl_type_3.0        -0.2851        0.1295 -2.2017 0.0277        -0.5389       -0.0313\n",
      "empl_type_4.0        -0.4482        0.2279 -1.9668 0.0492        -0.8948       -0.0016\n",
      "empl_type_7.0         0.2112        0.1413  1.4945 0.1351        -0.0658        0.4881\n",
      "empl_type_8.0         0.3306        0.2014  1.6417 0.1007        -0.0641        0.7253\n",
      "empl_type_9.0        -0.6662        0.2811 -2.3701 0.0178        -1.2171       -0.1153\n",
      "empl_type_10.0        0.2402        0.2011  1.1941 0.2324        -0.1540        0.6344\n",
      "empl_type_12.0       -0.2104        0.0819 -2.5685 0.0102        -0.3709       -0.0498\n",
      "empl_type_13.0       -0.4000        0.1528 -2.6184 0.0088        -0.6994       -0.1006\n",
      "education_area_0.0   -0.3409        0.0673 -5.0650 0.0000        -0.4728       -0.2090\n",
      "education_area_1.0    1.6076        0.5023  3.2004 0.0014         0.6231        2.5920\n",
      "education_area_6.0    0.3310        0.1421  2.3292 0.0198         0.0525        0.6095\n",
      "education_area_10.0  -0.2249        0.1376 -1.6342 0.1022        -0.4946        0.0448\n",
      "education_3          -0.6711        0.3045 -2.2041 0.0275        -1.2678       -0.0743\n",
      "education_7           0.8263        0.2596  3.1832 0.0015         0.3175        1.3350\n",
      "browser_2            -0.8079        0.2848 -2.8371 0.0046        -1.3660       -0.2498\n",
      "browser_3             0.2068        0.1087  1.9028 0.0571        -0.0062        0.4198\n",
      "browser_5             0.1596        0.1251  1.2757 0.2021        -0.0856        0.4048\n",
      "browser_6            -0.2078        0.1350 -1.5399 0.1236        -0.4723        0.0567\n",
      "platform_2            0.2679        0.2989  0.8963 0.3701        -0.3180        0.8539\n",
      "======================================================================================\n",
      "\n"
     ]
    },
    {
     "name": "stderr",
     "output_type": "stream",
     "text": [
      "D:\\Anaconda\\lib\\site-packages\\statsmodels\\base\\model.py:508: ConvergenceWarning: Maximum Likelihood optimization failed to converge. Check mle_retvals\n",
      "  \"Check mle_retvals\", ConvergenceWarning)\n"
     ]
    }
   ],
   "source": [
    "#Первая модель логистической регрессии, убираем переменные с P- значением > 5%\n",
    "logit_model=sm.Logit(y,X)\n",
    "result=logit_model.fit()\n",
    "print(result.summary2())"
   ]
  },
  {
   "cell_type": "code",
   "execution_count": 115,
   "metadata": {},
   "outputs": [
    {
     "name": "stdout",
     "output_type": "stream",
     "text": [
      "Optimization terminated successfully.\n",
      "         Current function value: 0.659914\n",
      "         Iterations 6\n",
      "                          Results: Logit\n",
      "==================================================================\n",
      "Model:               Logit            Pseudo R-squared: 0.048     \n",
      "Dependent Variable:  df               AIC:              6403.0091 \n",
      "Date:                2018-10-25 13:17 BIC:              6571.4597 \n",
      "No. Observations:    4812             Log-Likelihood:   -3175.5   \n",
      "Df Model:            25               LL-Null:          -3335.4   \n",
      "Df Residuals:        4786             LLR p-value:      6.1462e-53\n",
      "Converged:           1.0000           Scale:            1.0000    \n",
      "No. Iterations:      6.0000                                       \n",
      "------------------------------------------------------------------\n",
      "                    Coef.  Std.Err.    z    P>|z|   [0.025  0.975]\n",
      "------------------------------------------------------------------\n",
      "gender_1            0.4885   0.0689  7.0902 0.0000  0.3535  0.6236\n",
      "fam_status_3        0.4242   0.0691  6.1359 0.0000  0.2887  0.5596\n",
      "property_3         -0.4227   0.1391 -3.0379 0.0024 -0.6954 -0.1500\n",
      "property_5         -0.3648   0.0605 -6.0323 0.0000 -0.4833 -0.2463\n",
      "region_6           -1.1034   0.4355 -2.5338 0.0113 -1.9570 -0.2499\n",
      "region_8            0.3248   0.0942  3.4483 0.0006  0.1402  0.5093\n",
      "region_9           -0.7418   0.2761 -2.6865 0.0072 -1.2830 -0.2006\n",
      "region_16           1.0823   0.5391  2.0076 0.0447  0.0257  2.1389\n",
      "region_17           1.0979   0.3410  3.2196 0.0013  0.4295  1.7662\n",
      "region_reg_8        1.0465   0.4275  2.4479 0.0144  0.2086  1.8845\n",
      "region_reg_11       0.9001   0.2901  3.1022 0.0019  0.3314  1.4687\n",
      "region_reg_20      -1.3608   0.5099 -2.6688 0.0076 -2.3601 -0.3614\n",
      "empl_state_2       -0.6965   0.2555 -2.7255 0.0064 -1.1973 -0.1956\n",
      "empl_state_5        0.3727   0.1585  2.3512 0.0187  0.0620  0.6834\n",
      "empl_type_1.0       0.5166   0.1710  3.0204 0.0025  0.1814  0.8518\n",
      "empl_type_3.0      -0.2905   0.1242 -2.3390 0.0193 -0.5339 -0.0471\n",
      "empl_type_4.0      -0.4979   0.2220 -2.2427 0.0249 -0.9331 -0.0628\n",
      "empl_type_9.0      -0.5500   0.2740 -2.0073 0.0447 -1.0871 -0.0130\n",
      "empl_type_12.0     -0.2294   0.0762 -3.0102 0.0026 -0.3788 -0.0800\n",
      "empl_type_13.0     -0.3852   0.1471 -2.6184 0.0088 -0.6735 -0.0969\n",
      "education_area_0.0 -0.2486   0.0616 -4.0350 0.0001 -0.3694 -0.1279\n",
      "education_area_1.0  1.7319   0.4987  3.4729 0.0005  0.7545  2.7093\n",
      "education_area_6.0  0.4300   0.1364  3.1539 0.0016  0.1628  0.6973\n",
      "education_3        -0.6136   0.2974 -2.0635 0.0391 -1.1964 -0.0308\n",
      "education_7         0.8786   0.2535  3.4654 0.0005  0.3817  1.3755\n",
      "browser_2          -0.7976   0.2769 -2.8805 0.0040 -1.3403 -0.2549\n",
      "==================================================================\n",
      "\n"
     ]
    }
   ],
   "source": [
    "cols=['gender_1',\n",
    " 'fam_status_3',\n",
    " 'property_3',\n",
    " 'property_5',\n",
    " 'region_6',\n",
    " 'region_8',\n",
    " 'region_9',\n",
    " 'region_16',\n",
    " 'region_17',\n",
    " 'region_reg_8',\n",
    " 'region_reg_11',\n",
    " 'region_reg_20',\n",
    " 'empl_state_2',\n",
    " 'empl_state_5',\n",
    " 'empl_type_1.0',\n",
    " 'empl_type_3.0',\n",
    " 'empl_type_4.0',\n",
    " 'empl_type_9.0',\n",
    " 'empl_type_12.0',\n",
    " 'empl_type_13.0',\n",
    " 'education_area_0.0',\n",
    " 'education_area_1.0',\n",
    " 'education_area_6.0',\n",
    " 'education_3',\n",
    " 'education_7',\n",
    " 'browser_2']\n",
    "X=os_data_X[cols]\n",
    "y=os_data_y['df']\n",
    "logit_model=sm.Logit(y,X)\n",
    "result=logit_model.fit()\n",
    "print(result.summary2())"
   ]
  },
  {
   "cell_type": "code",
   "execution_count": 116,
   "metadata": {},
   "outputs": [
    {
     "name": "stderr",
     "output_type": "stream",
     "text": [
      "D:\\Anaconda\\lib\\site-packages\\sklearn\\linear_model\\logistic.py:432: FutureWarning: Default solver will be changed to 'lbfgs' in 0.22. Specify a solver to silence this warning.\n",
      "  FutureWarning)\n"
     ]
    },
    {
     "data": {
      "text/plain": [
       "LogisticRegression(C=1.0, class_weight=None, dual=False, fit_intercept=True,\n",
       "          intercept_scaling=1, max_iter=100, multi_class='warn',\n",
       "          n_jobs=None, penalty='l2', random_state=None, solver='warn',\n",
       "          tol=0.0001, verbose=0, warm_start=False)"
      ]
     },
     "execution_count": 116,
     "metadata": {},
     "output_type": "execute_result"
    }
   ],
   "source": [
    "X_train, X_test, y_train, y_test = train_test_split(X, y, test_size=0.2, random_state=0)\n",
    "logreg = LogisticRegression()\n",
    "logreg.fit(X_train, y_train)"
   ]
  },
  {
   "cell_type": "code",
   "execution_count": 117,
   "metadata": {},
   "outputs": [
    {
     "name": "stdout",
     "output_type": "stream",
     "text": [
      "Accuracy of logistic regression classifier on test set: 0.59\n"
     ]
    }
   ],
   "source": [
    "#Рассчитываем точность прогноза\n",
    "y_pred = logreg.predict(X_test)\n",
    "print('Accuracy of logistic regression classifier on test set: {:.2f}'.format(logreg.score(X_test, y_test)))"
   ]
  },
  {
   "cell_type": "code",
   "execution_count": 123,
   "metadata": {},
   "outputs": [
    {
     "name": "stdout",
     "output_type": "stream",
     "text": [
      "[[299 177]\n",
      " [215 272]]\n"
     ]
    }
   ],
   "source": [
    "#Первый подмассив - правильно угаданные значения, второй - неверно\n",
    "from sklearn.metrics import confusion_matrix\n",
    "confusion_matrix = confusion_matrix(y_test, y_pred)\n",
    "print(confusion_matrix)"
   ]
  },
  {
   "cell_type": "code",
   "execution_count": 119,
   "metadata": {},
   "outputs": [
    {
     "name": "stdout",
     "output_type": "stream",
     "text": [
      "              precision    recall  f1-score   support\n",
      "\n",
      "           0       0.58      0.63      0.60       476\n",
      "           1       0.61      0.56      0.58       487\n",
      "\n",
      "   micro avg       0.59      0.59      0.59       963\n",
      "   macro avg       0.59      0.59      0.59       963\n",
      "weighted avg       0.59      0.59      0.59       963\n",
      "\n"
     ]
    }
   ],
   "source": [
    "#Отчет классификатора Логистическая регрессия \n",
    "from sklearn.metrics import classification_report\n",
    "print(classification_report(y_test, y_pred))"
   ]
  },
  {
   "cell_type": "code",
   "execution_count": 120,
   "metadata": {},
   "outputs": [
    {
     "data": {
      "image/png": "[encoded data removed]",
      "text/plain": [
       "<matplotlib.figure.Figure at 0x13c68780>"
      ]
     },
     "metadata": {},
     "output_type": "display_data"
    }
   ],
   "source": [
    "#Строим ROC-кривую, чем больше синяя линия отклонена от красной - тем лучше работает классификатор\n",
    "from sklearn.metrics import roc_auc_score\n",
    "from sklearn.metrics import roc_curve\n",
    "logit_roc_auc = roc_auc_score(y_test, logreg.predict(X_test))\n",
    "fpr, tpr, thresholds = roc_curve(y_test, logreg.predict_proba(X_test)[:,1])\n",
    "plt.figure()\n",
    "plt.plot(fpr, tpr, label='Logistic Regression (area = %0.2f)' % logit_roc_auc)\n",
    "plt.plot([0, 1], [0, 1],'r--')\n",
    "plt.xlim([0.0, 1.0])\n",
    "plt.ylim([0.0, 1.05])\n",
    "plt.xlabel('False Positive Rate')\n",
    "plt.ylabel('True Positive Rate')\n",
    "plt.title('Receiver operating characteristic')\n",
    "plt.legend(loc=\"lower right\")\n",
    "plt.savefig('Log_ROC')\n",
    "plt.show()"
   ]
  },
  {
   "cell_type": "markdown",
   "metadata": {},
   "source": [
    "# Random Forest Classication"
   ]
  },
  {
   "cell_type": "code",
   "execution_count": 61,
   "metadata": {
    "collapsed": true
   },
   "outputs": [],
   "source": [
    "#Попробую решить данную задачу методом СЛучайного леса на уже подготовленых данных\n",
    "from sklearn.ensemble import RandomForestClassifier\n",
    "clf = RandomForestClassifier(n_jobs=1, random_state=0)"
   ]
  },
  {
   "cell_type": "code",
   "execution_count": 62,
   "metadata": {},
   "outputs": [
    {
     "name": "stderr",
     "output_type": "stream",
     "text": [
      "D:\\Anaconda\\lib\\site-packages\\sklearn\\ensemble\\forest.py:248: FutureWarning: The default value of n_estimators will change from 10 in version 0.20 to 100 in 0.22.\n",
      "  \"10 in version 0.20 to 100 in 0.22.\", FutureWarning)\n",
      "D:\\Anaconda\\lib\\site-packages\\ipykernel_launcher.py:1: DataConversionWarning: A column-vector y was passed when a 1d array was expected. Please change the shape of y to (n_samples,), for example using ravel().\n",
      "  \"\"\"Entry point for launching an IPython kernel.\n"
     ]
    },
    {
     "data": {
      "text/plain": [
       "RandomForestClassifier(bootstrap=True, class_weight=None, criterion='gini',\n",
       "            max_depth=None, max_features='auto', max_leaf_nodes=None,\n",
       "            min_impurity_decrease=0.0, min_impurity_split=None,\n",
       "            min_samples_leaf=1, min_samples_split=2,\n",
       "            min_weight_fraction_leaf=0.0, n_estimators=10, n_jobs=1,\n",
       "            oob_score=False, random_state=0, verbose=0, warm_start=False)"
      ]
     },
     "execution_count": 62,
     "metadata": {},
     "output_type": "execute_result"
    }
   ],
   "source": [
    "clf.fit(os_data_X, os_data_y)"
   ]
  },
  {
   "cell_type": "code",
   "execution_count": 64,
   "metadata": {},
   "outputs": [
    {
     "data": {
      "text/plain": [
       "array([1, 1, 1, 1, 1, 1, 1, 1, 1, 0, 1, 1, 1, 1, 0, 1, 1, 1, 1, 1, 1, 1,\n",
       "       1, 1, 1, 1, 1, 1, 0, 1, 1, 1, 1, 1, 1, 1, 1, 1, 1, 1, 1, 1, 1, 0,\n",
       "       1, 0, 0, 1, 1, 1, 1, 1, 1, 1, 1, 1, 1, 1, 0, 1, 0, 0, 0, 1, 0, 1,\n",
       "       1, 1, 0, 1, 1, 1, 1, 1, 0, 1, 1, 1, 0, 1, 1, 1, 1, 1, 1, 1, 1, 1,\n",
       "       1, 1, 0, 0, 1, 1, 1, 1, 1, 1, 1, 1, 1, 1, 1, 1, 1, 1, 1, 1, 1, 1,\n",
       "       1, 1, 1, 1, 1, 1, 1, 1, 0, 1, 1, 1, 1, 1, 1, 1, 1, 1, 1, 1, 1, 1,\n",
       "       1, 1, 1, 1, 1, 0, 1, 1, 1, 1, 1, 1, 1, 1, 1, 1, 1, 1, 1, 1, 1, 1,\n",
       "       1, 1, 1, 1, 1, 1, 1, 1, 1, 1, 1, 1, 1, 1, 1, 0, 1, 1, 1, 1, 1, 1,\n",
       "       1, 1, 1, 1, 1, 1, 1, 1, 1, 1, 1, 1, 1, 1, 1, 1, 1, 1, 1, 1, 0, 1,\n",
       "       1, 1, 0, 1, 1, 1, 0, 1, 1, 0, 1, 1, 1, 1, 0, 1, 1, 1, 1, 1, 1, 1,\n",
       "       0, 1, 1, 1, 1, 1, 1, 0, 1, 1, 1, 1, 1, 1, 1, 1, 1, 1, 0, 1, 1, 1,\n",
       "       1, 0, 0, 1, 1, 0, 0, 1, 1, 1, 1, 0, 0, 1, 1, 0, 1, 1, 1, 0, 0, 1,\n",
       "       1, 1, 1, 1, 1, 1, 1, 1, 0, 1, 1, 1, 1, 1, 1, 1, 1, 1, 0, 1, 1, 1,\n",
       "       0, 1, 1, 1, 0, 0, 1, 1, 1, 1, 1, 1, 1, 1, 1, 1, 1, 1, 1, 1, 1, 0,\n",
       "       1, 1, 1, 1, 1, 1, 1, 0, 1, 0, 1, 1, 1, 1, 0, 1, 1, 0, 1, 1, 1, 1,\n",
       "       1, 1, 1, 1, 1, 1, 1, 1, 1, 1, 1, 0, 1, 1, 1, 0, 1, 1, 1, 1, 1, 1,\n",
       "       1, 1, 1, 0, 0, 1, 1, 1, 1, 1, 1, 1, 1, 0, 1, 1, 1, 1, 1, 1, 1, 1,\n",
       "       1, 0, 1, 1, 1, 1, 1, 1, 1, 0, 0, 1, 1, 0, 1, 1, 1, 1, 1, 1, 0, 1,\n",
       "       1, 1, 1, 1, 0, 0, 1, 1, 1, 1, 1, 1, 1, 1, 1, 1, 0, 1, 1, 1, 1, 1,\n",
       "       0, 1, 1, 1, 1, 1, 1, 1, 1, 1, 1, 1, 1, 1, 1, 1, 1, 1, 1, 1, 0, 1,\n",
       "       1, 1, 1, 0, 0, 1, 1, 1, 1, 1, 1, 1, 1, 0, 0, 1, 1, 1, 1, 1, 1, 1,\n",
       "       1, 0, 1, 1, 1, 1, 1, 0, 1, 1, 1, 1, 1, 1, 1, 1, 0, 1, 1, 1, 1, 1,\n",
       "       0, 0, 1, 1, 1, 0, 1, 1, 0, 1, 1, 1, 1, 1, 1, 1, 1, 0, 1, 1, 1, 1,\n",
       "       1, 0, 1, 1, 1, 1, 1, 1, 0, 0, 1, 1, 1, 1, 0, 1, 1, 1, 1, 1, 1, 1,\n",
       "       1, 1, 0, 1, 0, 1, 1, 1, 1, 0, 0, 0, 0, 1, 1, 1, 1, 0, 1, 1, 1, 1,\n",
       "       1, 0, 1, 1, 1, 1, 1, 1, 1, 1, 1, 0, 0, 1, 1, 1, 1, 0, 1, 1, 1, 0,\n",
       "       1, 1, 1, 0, 1, 1, 0, 1, 1, 1, 0, 1, 1, 1, 1, 1, 1, 1, 1, 1, 1, 1,\n",
       "       1, 1, 1, 1, 1, 1, 0, 1, 1, 1, 0, 1, 1, 1, 0, 1, 1, 1, 1, 1, 1, 1,\n",
       "       1, 0, 1, 0, 1, 1, 1, 1, 1, 1, 1, 1, 0, 1, 0, 1, 1, 1, 0, 1, 1, 1,\n",
       "       0, 1, 1, 0, 1, 0, 0, 1, 1, 0, 1, 1, 1, 1, 0, 1, 1, 1, 1, 1, 1, 1,\n",
       "       1, 1, 1, 1, 1, 1, 1, 1, 1, 0, 1, 1, 1, 0, 1, 1, 1, 1, 1, 1, 1, 1,\n",
       "       1, 1, 1, 1, 1, 0, 1, 1, 1, 1, 1, 1, 0, 1, 1, 1, 1, 1, 1, 1, 1, 1,\n",
       "       1, 1, 1, 0, 1, 0, 1, 1, 1, 1, 1, 1, 1, 1, 1, 1, 1, 1, 1, 1, 1, 1,\n",
       "       1, 1, 1, 1, 1, 0, 1, 0, 1, 1, 1, 1, 1, 1, 1, 1, 1, 1, 1, 1, 0, 1,\n",
       "       0, 1, 0, 1, 1, 1, 0, 1, 1, 0, 1, 1, 1, 1, 1, 0, 1, 1, 1, 1, 0, 1,\n",
       "       1, 1, 1, 1, 1, 1, 1, 1, 0, 0, 1, 1, 1, 1, 1, 0, 1, 1, 1, 1, 1, 1,\n",
       "       1, 1, 1, 1, 1, 1, 1, 1, 1], dtype=int8)"
      ]
     },
     "execution_count": 64,
     "metadata": {},
     "output_type": "execute_result"
    }
   ],
   "source": [
    "clf.predict(X_test)"
   ]
  },
  {
   "cell_type": "code",
   "execution_count": 65,
   "metadata": {},
   "outputs": [
    {
     "name": "stdout",
     "output_type": "stream",
     "text": [
      "Accuracy of random forest classifier on test set: 0.67\n"
     ]
    }
   ],
   "source": [
    "#Точность прогноза\n",
    "print('Accuracy of random forest classifier on test set: {:.2f}'.format(clf.score(X_test, y_test)))\n"
   ]
  },
  {
   "cell_type": "code",
   "execution_count": 66,
   "metadata": {},
   "outputs": [
    {
     "data": {
      "text/plain": [
       "[('quantity_child', 0.013140087036795303),\n",
       " ('max_age_child', 0.015173070300034789),\n",
       " ('work_experience', 0.02919756610490813),\n",
       " ('empl_worker_count', 0.020845553844599733),\n",
       " ('monthlyincome', 0.02628238378204455),\n",
       " ('monthlycost', 0.02564135405007927),\n",
       " ('ages', 0.033664332375123354),\n",
       " ('jobsworkage', 0.03179361402485584),\n",
       " ('passage', 0.031284886243836435),\n",
       " ('lived_age', 0.03176822621016466),\n",
       " ('reg_lived', 0.030079724234697458),\n",
       " ('site_visit', 0.027110911053271118),\n",
       " ('site_frac', 0.029914650882829498),\n",
       " ('gender_1', 0.027015964709738723),\n",
       " ('gender_2', 0.04149672460623952),\n",
       " ('fam_status_1', 0.003308209323935636),\n",
       " ('fam_status_2', 0.00303043925455749),\n",
       " ('fam_status_3', 0.0299688654093491),\n",
       " ('fam_status_4', 0.016809857337307606),\n",
       " ('fam_status_5', 0.00026891181246766957),\n",
       " ('property_1', 0.03465336260422022),\n",
       " ('property_2', 0.0011154878389625358),\n",
       " ('property_3', 0.003653774687740753),\n",
       " ('property_4', 0.005665373032238007),\n",
       " ('property_5', 0.03579419469757069),\n",
       " ('property_6', 0.0003316554907197668),\n",
       " ('region_1', 0.0013260843714246978),\n",
       " ('region_2', 0.0037004770957689685),\n",
       " ('region_3', 0.00382516948362674),\n",
       " ('region_4', 0.0023787818864074014),\n",
       " ('region_5', 0.0018160406076611264),\n",
       " ('region_6', 0.0023430978105187248),\n",
       " ('region_7', 0.00033435087502250516),\n",
       " ('region_8', 0.013619140230393376),\n",
       " ('region_9', 0.003912874183390652),\n",
       " ('region_10', 0.0017181376786330337),\n",
       " ('region_11', 0.0030846776728915056),\n",
       " ('region_12', 0.0022297513914939756),\n",
       " ('region_13', 0.0051433592955578275),\n",
       " ('region_14', 0.0027163313450789426),\n",
       " ('region_15', 0.0012083346183757574),\n",
       " ('region_16', 0.0018815470667625956),\n",
       " ('region_17', 0.000396433235944959),\n",
       " ('region_18', 0.0032037343820694756),\n",
       " ('region_19', 0.0011533804465418572),\n",
       " ('region_20', 0.003048710912711496),\n",
       " ('region_21', 0.002320580285604733),\n",
       " ('region_22', 0.00021727538575837916),\n",
       " ('region_23', 0.002081301592101059),\n",
       " ('region_reg_1', 0.0),\n",
       " ('region_reg_2', 0.0015400558284771053),\n",
       " ('region_reg_3', 0.0017608799234049108),\n",
       " ('region_reg_4', 0.0060172552300184175),\n",
       " ('region_reg_5', 0.001530432511329738),\n",
       " ('region_reg_6', 0.001631346164852887),\n",
       " ('region_reg_7', 0.0026640229520611203),\n",
       " ('region_reg_8', 0.003997066042260534),\n",
       " ('region_reg_9', 0.0008155336115973274),\n",
       " ('region_reg_10', 0.005313134340240485),\n",
       " ('region_reg_11', 0.0033597462643275657),\n",
       " ('region_reg_12', 0.00200868376232642),\n",
       " ('region_reg_13', 0.0008176459529393937),\n",
       " ('region_reg_14', 0.0017924878337041883),\n",
       " ('region_reg_15', 0.002224972651772902),\n",
       " ('region_reg_16', 0.0038458678539543046),\n",
       " ('region_reg_17', 0.004166468833536266),\n",
       " ('region_reg_18', 0.0020053606344247227),\n",
       " ('region_reg_19', 0.0),\n",
       " ('region_reg_20', 0.0025896687266049067),\n",
       " ('region_reg_21', 0.0009642963972185988),\n",
       " ('region_reg_22', 0.0050693758544011844),\n",
       " ('region_reg_23', 0.0014465669657070777),\n",
       " ('region_reg_24', 0.0016041269571262923),\n",
       " ('region_reg_25', 0.0017753588651565524),\n",
       " ('region_reg_26', 0.0007662371494453776),\n",
       " ('region_reg_27', 0.001151452332216855),\n",
       " ('empl_state_1', 0.007577077238954973),\n",
       " ('empl_state_2', 0.0012378327814688537),\n",
       " ('empl_state_3', 0.005657721400140666),\n",
       " ('empl_state_4', 0.0015102695971648417),\n",
       " ('empl_state_5', 0.002070329896630175),\n",
       " ('empl_state_6', 0.004344597130197428),\n",
       " ('empl_type_0.0', 0.0031065807099128723),\n",
       " ('empl_type_1.0', 0.002361012558406637),\n",
       " ('empl_type_2.0', 0.003103047877359786),\n",
       " ('empl_type_3.0', 0.004706831054930288),\n",
       " ('empl_type_4.0', 0.002494655605160339),\n",
       " ('empl_type_5.0', 0.0019215488038890852),\n",
       " ('empl_type_6.0', 0.005452776453049877),\n",
       " ('empl_type_7.0', 0.0038472252203532987),\n",
       " ('empl_type_8.0', 0.002751962459780436),\n",
       " ('empl_type_9.0', 0.0018205378781919377),\n",
       " ('empl_type_10.0', 0.0013614015212890219),\n",
       " ('empl_type_11.0', 0.007396775126039731),\n",
       " ('empl_type_12.0', 0.012723364352280084),\n",
       " ('empl_type_13.0', 0.004037222043525109),\n",
       " ('education_area_0.0', 0.03466364296711416),\n",
       " ('education_area_1.0', 0.0002002454252358641),\n",
       " ('education_area_2.0', 0.0018939993886699688),\n",
       " ('education_area_3.0', 0.000813497466961109),\n",
       " ('education_area_4.0', 0.0064413024213349325),\n",
       " ('education_area_5.0', 0.0010572475033511284),\n",
       " ('education_area_6.0', 0.004733197575544182),\n",
       " ('education_area_7.0', 0.0019586795739410957),\n",
       " ('education_area_8.0', 0.0012960414873222643),\n",
       " ('education_area_9.0', 0.004441718429128043),\n",
       " ('education_area_10.0', 0.0030179385412109918),\n",
       " ('education_area_11.0', 0.005922813907797745),\n",
       " ('education_1', 0.027747207703029426),\n",
       " ('education_2', 0.008628812614467945),\n",
       " ('education_3', 0.0021187543600796823),\n",
       " ('education_4', 0.0),\n",
       " ('education_5', 0.012650199903902495),\n",
       " ('education_6', 0.0209127821391192),\n",
       " ('education_7', 0.0014536314844088513),\n",
       " ('browser_0', 0.03141711389021745),\n",
       " ('browser_1', 0.0015984541102446216),\n",
       " ('browser_2', 0.001546112124840128),\n",
       " ('browser_3', 0.004131064288438681),\n",
       " ('browser_4', 0.0004330646379818613),\n",
       " ('browser_5', 0.0037175605031243785),\n",
       " ('browser_6', 0.002539639670999544),\n",
       " ('platform_0', 0.02686005772737956),\n",
       " ('platform_1', 0.013985448913809744),\n",
       " ('platform_2', 0.0022078008704343394),\n",
       " ('platform_3', 0.018602404220052382)]"
      ]
     },
     "execution_count": 66,
     "metadata": {},
     "output_type": "execute_result"
    }
   ],
   "source": [
    "#\"Важность\" каждой переменной для классификатора\n",
    "list(zip(X_train, clf.feature_importances_))"
   ]
  },
  {
   "cell_type": "code",
   "execution_count": 130,
   "metadata": {},
   "outputs": [
    {
     "data": {
      "text/html": [
       "<div>\n",
       "<style>\n",
       "    .dataframe thead tr:only-child th {\n",
       "        text-align: right;\n",
       "    }\n",
       "\n",
       "    .dataframe thead th {\n",
       "        text-align: left;\n",
       "    }\n",
       "\n",
       "    .dataframe tbody tr th {\n",
       "        vertical-align: top;\n",
       "    }\n",
       "</style>\n",
       "<table border=\"1\" class=\"dataframe\">\n",
       "  <thead>\n",
       "    <tr style=\"text-align: right;\">\n",
       "      <th>Predicted Species</th>\n",
       "      <th>0</th>\n",
       "      <th>1</th>\n",
       "    </tr>\n",
       "    <tr>\n",
       "      <th>Actual Species</th>\n",
       "      <th></th>\n",
       "      <th></th>\n",
       "    </tr>\n",
       "  </thead>\n",
       "  <tbody>\n",
       "    <tr>\n",
       "      <th>0</th>\n",
       "      <td>329</td>\n",
       "      <td>147</td>\n",
       "    </tr>\n",
       "    <tr>\n",
       "      <th>1</th>\n",
       "      <td>43</td>\n",
       "      <td>444</td>\n",
       "    </tr>\n",
       "  </tbody>\n",
       "</table>\n",
       "</div>"
      ],
      "text/plain": [
       "Predicted Species    0    1\n",
       "Actual Species             \n",
       "0                  329  147\n",
       "1                   43  444"
      ]
     },
     "execution_count": 130,
     "metadata": {},
     "output_type": "execute_result"
    }
   ],
   "source": [
    "pd.crosstab( np.array(y_test), clf.predict(X_test), rownames=['Actual Species'], colnames=['Predicted Species'])"
   ]
  },
  {
   "cell_type": "code",
   "execution_count": 135,
   "metadata": {},
   "outputs": [
    {
     "name": "stdout",
     "output_type": "stream",
     "text": [
      "              precision    recall  f1-score   support\n",
      "\n",
      "           0       0.88      0.69      0.78       476\n",
      "           1       0.75      0.91      0.82       487\n",
      "\n",
      "   micro avg       0.80      0.80      0.80       963\n",
      "   macro avg       0.82      0.80      0.80       963\n",
      "weighted avg       0.82      0.80      0.80       963\n",
      "\n"
     ]
    }
   ],
   "source": [
    "from sklearn.metrics import classification_report\n",
    "print(classification_report(y_test, clf.predict(X_test)))"
   ]
  },
  {
   "cell_type": "code",
   "execution_count": 131,
   "metadata": {},
   "outputs": [
    {
     "data": {
      "image/png": "[encoded data removed]",
      "text/plain": [
       "<matplotlib.figure.Figure at 0x1717a0b8>"
      ]
     },
     "metadata": {},
     "output_type": "display_data"
    }
   ],
   "source": [
    "#Построим кривую проверки классификатора для Леса\n",
    "clf_roc_auc = roc_auc_score(y_test, clf.predict(X_test))\n",
    "fpr, tpr, thresholds = roc_curve(y_test, clf.predict_proba(X_test)[:,1])\n",
    "plt.figure()\n",
    "plt.plot(fpr, tpr, label='Random Forest (area = %0.2f)' % clf_roc_auc)\n",
    "plt.plot([0, 1], [0, 1],'r--')\n",
    "plt.xlim([0.0, 1.0])\n",
    "plt.ylim([0.0, 1.05])\n",
    "plt.xlabel('False Positive Rate')\n",
    "plt.ylabel('True Positive Rate')\n",
    "plt.title('Receiver operating characteristic')\n",
    "plt.legend(loc=\"lower right\")\n",
    "plt.savefig('CLF_ROC')\n",
    "plt.show()"
   ]
  },
  {
   "cell_type": "markdown",
   "metadata": {},
   "source": [
    "Как мы видим с конкретной задачей Метод Случайного леса справляется лучше, чем Логистическая регрессия на 21% "
   ]
  },
  {
   "cell_type": "code",
   "execution_count": 133,
   "metadata": {},
   "outputs": [
    {
     "data": {
      "text/plain": [
       "0.20976116303219106"
      ]
     },
     "execution_count": 133,
     "metadata": {},
     "output_type": "execute_result"
    }
   ],
   "source": [
    "clf.score(X_test, y_test) - logreg.score(X_test, y_test)"
   ]
  }
 ],
 "metadata": {
  "kernelspec": {
   "display_name": "Python 3",
   "language": "python",
   "name": "python3"
  },
  "language_info": {
   "codemirror_mode": {
    "name": "ipython",
    "version": 3
   },
   "file_extension": ".py",
   "mimetype": "text/x-python",
   "name": "python",
   "nbconvert_exporter": "python",
   "pygments_lexer": "ipython3",
   "version": "3.6.3"
  }
 },
 "nbformat": 4,
 "nbformat_minor": 2
}
